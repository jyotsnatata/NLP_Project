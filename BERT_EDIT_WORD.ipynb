{
 "cells": [
  {
   "cell_type": "code",
   "execution_count": 1,
   "metadata": {},
   "outputs": [],
   "source": [
    "import os\n",
    "import numpy as np\n",
    "import re\n",
    "\n",
    "import pandas as pd"
   ]
  },
  {
   "cell_type": "code",
   "execution_count": 2,
   "metadata": {},
   "outputs": [],
   "source": [
    "def get_edited_headline(row):\n",
    "    expr = re.compile(\"<(.*?)/>\")\n",
    "    edited_headline = (re.sub(expr,row.edit,row.original)).lower()\n",
    "    #print((edited_headline))\n",
    "    return edited_headline\n",
    "\n",
    "def get_context(row):\n",
    "    \n",
    "    expr = re.compile(\"<(.*?)/>\")\n",
    "    context = (re.sub(expr,' ',row.original)).lower()\n",
    "    #print((edited_headline))\n",
    "    return context\n",
    "\n",
    "def make_original_string(row):\n",
    "    s=row.original\n",
    "    expr = re.compile(\"<\")\n",
    "    s=re.sub(expr,'',s).lower()\n",
    "    expr = re.compile(\">\")\n",
    "    s=re.sub(expr,'',s).lower()\n",
    "    return s\n",
    "\n",
    "def enhance_df(df):\n",
    "    df['edited'] = df.apply(get_edited_headline,axis=1)\n",
    "    df['edited_len'] = df.apply(lambda row:len(row.edited.split(' ')),axis=1)\n",
    "    df['context'] = df.apply(get_context,axis=1)\n",
    "    df['original_string']=df.apply(make_original_string,axis=1)\n",
    "    return df"
   ]
  },
  {
   "cell_type": "code",
   "execution_count": 3,
   "metadata": {},
   "outputs": [
    {
     "data": {
      "text/html": [
       "<div>\n",
       "<style scoped>\n",
       "    .dataframe tbody tr th:only-of-type {\n",
       "        vertical-align: middle;\n",
       "    }\n",
       "\n",
       "    .dataframe tbody tr th {\n",
       "        vertical-align: top;\n",
       "    }\n",
       "\n",
       "    .dataframe thead th {\n",
       "        text-align: right;\n",
       "    }\n",
       "</style>\n",
       "<table border=\"1\" class=\"dataframe\">\n",
       "  <thead>\n",
       "    <tr style=\"text-align: right;\">\n",
       "      <th></th>\n",
       "      <th>id</th>\n",
       "      <th>original</th>\n",
       "      <th>edit</th>\n",
       "      <th>grades</th>\n",
       "      <th>meanGrade</th>\n",
       "      <th>edited</th>\n",
       "      <th>edited_len</th>\n",
       "      <th>context</th>\n",
       "      <th>original_string</th>\n",
       "    </tr>\n",
       "  </thead>\n",
       "  <tbody>\n",
       "    <tr>\n",
       "      <th>0</th>\n",
       "      <td>5515</td>\n",
       "      <td>Trump &lt;Lawyers/&gt; Want A Second Special Counsel</td>\n",
       "      <td>toupees</td>\n",
       "      <td>32110</td>\n",
       "      <td>1.4</td>\n",
       "      <td>trump toupees want a second special counsel</td>\n",
       "      <td>7</td>\n",
       "      <td>trump   want a second special counsel</td>\n",
       "      <td>trump lawyers/ want a second special counsel</td>\n",
       "    </tr>\n",
       "    <tr>\n",
       "      <th>1</th>\n",
       "      <td>12469</td>\n",
       "      <td>One industry suddenly has ' unfettered access ...</td>\n",
       "      <td>pie</td>\n",
       "      <td>21110</td>\n",
       "      <td>1.0</td>\n",
       "      <td>one industry suddenly has ' unfettered access ...</td>\n",
       "      <td>22</td>\n",
       "      <td>one industry suddenly has ' unfettered access ...</td>\n",
       "      <td>one industry suddenly has ' unfettered access ...</td>\n",
       "    </tr>\n",
       "    <tr>\n",
       "      <th>2</th>\n",
       "      <td>10947</td>\n",
       "      <td>After healthcare vote , California Rep. Jeff D...</td>\n",
       "      <td>wrote</td>\n",
       "      <td>10000</td>\n",
       "      <td>0.2</td>\n",
       "      <td>after healthcare vote , california rep. jeff d...</td>\n",
       "      <td>19</td>\n",
       "      <td>after healthcare vote , california rep. jeff d...</td>\n",
       "      <td>after healthcare vote , california rep. jeff d...</td>\n",
       "    </tr>\n",
       "    <tr>\n",
       "      <th>3</th>\n",
       "      <td>5518</td>\n",
       "      <td>Since when was there such a low bar for &lt;defam...</td>\n",
       "      <td>planetary</td>\n",
       "      <td>10000</td>\n",
       "      <td>0.2</td>\n",
       "      <td>since when was there such a low bar for planet...</td>\n",
       "      <td>18</td>\n",
       "      <td>since when was there such a low bar for   sett...</td>\n",
       "      <td>since when was there such a low bar for defama...</td>\n",
       "    </tr>\n",
       "    <tr>\n",
       "      <th>4</th>\n",
       "      <td>11453</td>\n",
       "      <td>Donald Trump Unfollowed Reince Priebus , The U...</td>\n",
       "      <td>Compliment</td>\n",
       "      <td>32221</td>\n",
       "      <td>2.0</td>\n",
       "      <td>donald trump unfollowed reince priebus , the u...</td>\n",
       "      <td>13</td>\n",
       "      <td>donald trump unfollowed reince priebus , the u...</td>\n",
       "      <td>donald trump unfollowed reince priebus , the u...</td>\n",
       "    </tr>\n",
       "  </tbody>\n",
       "</table>\n",
       "</div>"
      ],
      "text/plain": [
       "      id                                           original        edit  \\\n",
       "0   5515     Trump <Lawyers/> Want A Second Special Counsel     toupees   \n",
       "1  12469  One industry suddenly has ' unfettered access ...         pie   \n",
       "2  10947  After healthcare vote , California Rep. Jeff D...       wrote   \n",
       "3   5518  Since when was there such a low bar for <defam...   planetary   \n",
       "4  11453  Donald Trump Unfollowed Reince Priebus , The U...  Compliment   \n",
       "\n",
       "   grades  meanGrade                                             edited  \\\n",
       "0   32110        1.4        trump toupees want a second special counsel   \n",
       "1   21110        1.0  one industry suddenly has ' unfettered access ...   \n",
       "2   10000        0.2  after healthcare vote , california rep. jeff d...   \n",
       "3   10000        0.2  since when was there such a low bar for planet...   \n",
       "4   32221        2.0  donald trump unfollowed reince priebus , the u...   \n",
       "\n",
       "   edited_len                                            context  \\\n",
       "0           7              trump   want a second special counsel   \n",
       "1          22  one industry suddenly has ' unfettered access ...   \n",
       "2          19  after healthcare vote , california rep. jeff d...   \n",
       "3          18  since when was there such a low bar for   sett...   \n",
       "4          13  donald trump unfollowed reince priebus , the u...   \n",
       "\n",
       "                                     original_string  \n",
       "0       trump lawyers/ want a second special counsel  \n",
       "1  one industry suddenly has ' unfettered access ...  \n",
       "2  after healthcare vote , california rep. jeff d...  \n",
       "3  since when was there such a low bar for defama...  \n",
       "4  donald trump unfollowed reince priebus , the u...  "
      ]
     },
     "execution_count": 3,
     "metadata": {},
     "output_type": "execute_result"
    }
   ],
   "source": [
    "train_df = pd.read_csv(\"./data/semeval_train.csv\")\n",
    "\n",
    "train_df = enhance_df(train_df)\n",
    "train_df.head()"
   ]
  },
  {
   "cell_type": "code",
   "execution_count": 4,
   "metadata": {},
   "outputs": [],
   "source": [
    "train_texts = train_df.edit.values.tolist()\n",
    "train_labels = train_df.meanGrade.values"
   ]
  },
  {
   "cell_type": "code",
   "execution_count": 5,
   "metadata": {},
   "outputs": [
    {
     "data": {
      "text/html": [
       "<div>\n",
       "<style scoped>\n",
       "    .dataframe tbody tr th:only-of-type {\n",
       "        vertical-align: middle;\n",
       "    }\n",
       "\n",
       "    .dataframe tbody tr th {\n",
       "        vertical-align: top;\n",
       "    }\n",
       "\n",
       "    .dataframe thead th {\n",
       "        text-align: right;\n",
       "    }\n",
       "</style>\n",
       "<table border=\"1\" class=\"dataframe\">\n",
       "  <thead>\n",
       "    <tr style=\"text-align: right;\">\n",
       "      <th></th>\n",
       "      <th>id</th>\n",
       "      <th>original</th>\n",
       "      <th>edit</th>\n",
       "      <th>grades</th>\n",
       "      <th>meanGrade</th>\n",
       "      <th>pred</th>\n",
       "      <th>edited</th>\n",
       "      <th>edited_len</th>\n",
       "      <th>context</th>\n",
       "      <th>original_string</th>\n",
       "    </tr>\n",
       "  </thead>\n",
       "  <tbody>\n",
       "    <tr>\n",
       "      <th>0</th>\n",
       "      <td>7848</td>\n",
       "      <td>The Daily 202 : Loyalty is a one-way street fo...</td>\n",
       "      <td>cars</td>\n",
       "      <td>21100</td>\n",
       "      <td>0.8</td>\n",
       "      <td>0.938505</td>\n",
       "      <td>the daily 202 : loyalty is a one-way street fo...</td>\n",
       "      <td>12</td>\n",
       "      <td>the daily 202 : loyalty is a one-way street fo...</td>\n",
       "      <td>the daily 202 : loyalty is a one-way street fo...</td>\n",
       "    </tr>\n",
       "    <tr>\n",
       "      <th>1</th>\n",
       "      <td>9500</td>\n",
       "      <td>Trump Bodyguard Keith Schiller Testifies Russi...</td>\n",
       "      <td>Tacos</td>\n",
       "      <td>32211</td>\n",
       "      <td>1.8</td>\n",
       "      <td>0.938505</td>\n",
       "      <td>trump bodyguard keith schiller testifies russi...</td>\n",
       "      <td>14</td>\n",
       "      <td>trump bodyguard keith schiller testifies russi...</td>\n",
       "      <td>trump bodyguard keith schiller testifies russi...</td>\n",
       "    </tr>\n",
       "    <tr>\n",
       "      <th>2</th>\n",
       "      <td>10518</td>\n",
       "      <td>Trump Jr. says missing out on India &lt;deals/&gt; b...</td>\n",
       "      <td>food</td>\n",
       "      <td>32111</td>\n",
       "      <td>1.6</td>\n",
       "      <td>0.938505</td>\n",
       "      <td>trump jr. says missing out on india food becau...</td>\n",
       "      <td>14</td>\n",
       "      <td>trump jr. says missing out on india   because ...</td>\n",
       "      <td>trump jr. says missing out on india deals/ bec...</td>\n",
       "    </tr>\n",
       "    <tr>\n",
       "      <th>3</th>\n",
       "      <td>11882</td>\n",
       "      <td>WHCD Comedian Michelle Wolf : Trump a ‘ Pussy ...</td>\n",
       "      <td>Hear</td>\n",
       "      <td>10000</td>\n",
       "      <td>0.2</td>\n",
       "      <td>0.938505</td>\n",
       "      <td>whcd comedian michelle wolf : trump a ‘ pussy ...</td>\n",
       "      <td>23</td>\n",
       "      <td>whcd comedian michelle wolf : trump a ‘ pussy ...</td>\n",
       "      <td>whcd comedian michelle wolf : trump a ‘ pussy ...</td>\n",
       "    </tr>\n",
       "    <tr>\n",
       "      <th>4</th>\n",
       "      <td>1239</td>\n",
       "      <td>US calls Russia 's decision to &lt;cut/&gt; its dipl...</td>\n",
       "      <td>vellicate</td>\n",
       "      <td>0</td>\n",
       "      <td>0.0</td>\n",
       "      <td>0.938505</td>\n",
       "      <td>us calls russia 's decision to vellicate its d...</td>\n",
       "      <td>21</td>\n",
       "      <td>us calls russia 's decision to   its diplomati...</td>\n",
       "      <td>us calls russia 's decision to cut/ its diplom...</td>\n",
       "    </tr>\n",
       "  </tbody>\n",
       "</table>\n",
       "</div>"
      ],
      "text/plain": [
       "      id                                           original       edit  \\\n",
       "0   7848  The Daily 202 : Loyalty is a one-way street fo...       cars   \n",
       "1   9500  Trump Bodyguard Keith Schiller Testifies Russi...      Tacos   \n",
       "2  10518  Trump Jr. says missing out on India <deals/> b...       food   \n",
       "3  11882  WHCD Comedian Michelle Wolf : Trump a ‘ Pussy ...       Hear   \n",
       "4   1239  US calls Russia 's decision to <cut/> its dipl...  vellicate   \n",
       "\n",
       "   grades  meanGrade      pred  \\\n",
       "0   21100        0.8  0.938505   \n",
       "1   32211        1.8  0.938505   \n",
       "2   32111        1.6  0.938505   \n",
       "3   10000        0.2  0.938505   \n",
       "4       0        0.0  0.938505   \n",
       "\n",
       "                                              edited  edited_len  \\\n",
       "0  the daily 202 : loyalty is a one-way street fo...          12   \n",
       "1  trump bodyguard keith schiller testifies russi...          14   \n",
       "2  trump jr. says missing out on india food becau...          14   \n",
       "3  whcd comedian michelle wolf : trump a ‘ pussy ...          23   \n",
       "4  us calls russia 's decision to vellicate its d...          21   \n",
       "\n",
       "                                             context  \\\n",
       "0  the daily 202 : loyalty is a one-way street fo...   \n",
       "1  trump bodyguard keith schiller testifies russi...   \n",
       "2  trump jr. says missing out on india   because ...   \n",
       "3  whcd comedian michelle wolf : trump a ‘ pussy ...   \n",
       "4  us calls russia 's decision to   its diplomati...   \n",
       "\n",
       "                                     original_string  \n",
       "0  the daily 202 : loyalty is a one-way street fo...  \n",
       "1  trump bodyguard keith schiller testifies russi...  \n",
       "2  trump jr. says missing out on india deals/ bec...  \n",
       "3  whcd comedian michelle wolf : trump a ‘ pussy ...  \n",
       "4  us calls russia 's decision to cut/ its diplom...  "
      ]
     },
     "execution_count": 5,
     "metadata": {},
     "output_type": "execute_result"
    }
   ],
   "source": [
    "test_df = pd.read_csv(\"./data/semeval_test.csv\")\n",
    "\n",
    "test_df = enhance_df(test_df)\n",
    "test_df.head()"
   ]
  },
  {
   "cell_type": "code",
   "execution_count": 6,
   "metadata": {},
   "outputs": [],
   "source": [
    "test_texts = test_df.edit.values.tolist()\n",
    "test_labels = test_df.meanGrade.values"
   ]
  },
  {
   "cell_type": "code",
   "execution_count": 7,
   "metadata": {},
   "outputs": [],
   "source": [
    "from transformers import AutoTokenizer\n",
    "model_name = \"distilbert-base-uncased\"\n",
    "tokenizer = AutoTokenizer.from_pretrained(model_name)"
   ]
  },
  {
   "cell_type": "code",
   "execution_count": 8,
   "metadata": {},
   "outputs": [
    {
     "name": "stderr",
     "output_type": "stream",
     "text": [
      "/home/deepak/anaconda3/lib/python3.7/site-packages/torch/cuda/__init__.py:52: UserWarning: CUDA initialization: The NVIDIA driver on your system is too old (found version 10010). Please update your GPU driver by downloading and installing a new version from the URL: http://www.nvidia.com/Download/index.aspx Alternatively, go to: https://pytorch.org to install a PyTorch version that has been compiled with your version of the CUDA driver. (Triggered internally at  /pytorch/c10/cuda/CUDAFunctions.cpp:109.)\n",
      "  return torch._C._cuda_getDeviceCount() > 0\n"
     ]
    }
   ],
   "source": [
    "import torch\n",
    "from transformers import AutoModel\n",
    "\n",
    "device = torch.device(\"cuda\" if torch.cuda.is_available() else \"cpu\")\n",
    "bert_model = AutoModel.from_pretrained(model_name).to(device)"
   ]
  },
  {
   "cell_type": "code",
   "execution_count": 9,
   "metadata": {},
   "outputs": [],
   "source": [
    "def tokenize(batch):\n",
    "    return tokenizer(batch, padding='max_length',truncation=True,max_length=5)"
   ]
  },
  {
   "cell_type": "code",
   "execution_count": 10,
   "metadata": {},
   "outputs": [],
   "source": [
    "def extract_bert_embedding(texts):\n",
    "\n",
    "    tokens = tokenize(texts)\n",
    "    input_ids_tensor = torch.tensor(tokens['input_ids']).to(device)\n",
    "    attention_mask_tensor = torch.tensor(tokens['attention_mask']).to(device)\n",
    "    \n",
    "    with torch.no_grad():\n",
    "        last_hidden_state = bert_model(input_ids_tensor, attention_mask_tensor).last_hidden_state\n",
    "        last_hidden_state = last_hidden_state.cpu().numpy()\n",
    "    \n",
    "    embeddings = last_hidden_state[:,0,:]\n",
    "    return embeddings\n",
    "    "
   ]
  },
  {
   "cell_type": "code",
   "execution_count": 11,
   "metadata": {},
   "outputs": [],
   "source": [
    "train_embedding = extract_bert_embedding(train_texts)\n",
    "test_embeddings = extract_bert_embedding(test_texts)"
   ]
  },
  {
   "cell_type": "code",
   "execution_count": 12,
   "metadata": {},
   "outputs": [
    {
     "data": {
      "text/plain": [
       "(7721, 768)"
      ]
     },
     "execution_count": 12,
     "metadata": {},
     "output_type": "execute_result"
    }
   ],
   "source": [
    "train_embedding.shape"
   ]
  },
  {
   "cell_type": "code",
   "execution_count": 13,
   "metadata": {},
   "outputs": [],
   "source": [
    "from keras.preprocessing.text import Tokenizer\n",
    "from keras.preprocessing.sequence import pad_sequences\n",
    "from keras.models import Sequential\n",
    "from keras.layers import Dense\n",
    "from keras.layers import Flatten\n",
    "from keras.layers import Embedding\n",
    "from keras.layers import Input\n",
    "import keras"
   ]
  },
  {
   "cell_type": "code",
   "execution_count": 14,
   "metadata": {},
   "outputs": [
    {
     "name": "stdout",
     "output_type": "stream",
     "text": [
      "Model: \"sequential\"\n",
      "_________________________________________________________________\n",
      "Layer (type)                 Output Shape              Param #   \n",
      "=================================================================\n",
      "dense (Dense)                (None, 32)                24608     \n",
      "_________________________________________________________________\n",
      "dense_1 (Dense)              (None, 32)                1056      \n",
      "_________________________________________________________________\n",
      "dense_2 (Dense)              (None, 1)                 33        \n",
      "=================================================================\n",
      "Total params: 25,697\n",
      "Trainable params: 25,697\n",
      "Non-trainable params: 0\n",
      "_________________________________________________________________\n",
      "None\n"
     ]
    }
   ],
   "source": [
    "model = Sequential()\n",
    " \n",
    "model.add(Input(shape=(768)))\n",
    "model.add(Dense(32,activation='relu'))\n",
    "model.add(Dense(32,activation='relu'))\n",
    "model.add(Dense(1))\n",
    "# compile the model\n",
    "opt = keras.optimizers.Adam(learning_rate=0.01)\n",
    "model.compile(optimizer=opt, loss='mean_squared_error')\n",
    "# summarize the model\n",
    "print(model.summary())"
   ]
  },
  {
   "cell_type": "code",
   "execution_count": 15,
   "metadata": {},
   "outputs": [
    {
     "name": "stdout",
     "output_type": "stream",
     "text": [
      "Epoch 1/20\n",
      "242/242 [==============================] - 0s 928us/step - loss: 0.3823\n",
      "Epoch 2/20\n",
      "242/242 [==============================] - 0s 955us/step - loss: 0.3177\n",
      "Epoch 3/20\n",
      "242/242 [==============================] - 0s 910us/step - loss: 0.3079\n",
      "Epoch 4/20\n",
      "242/242 [==============================] - 0s 902us/step - loss: 0.3065\n",
      "Epoch 5/20\n",
      "242/242 [==============================] - 0s 938us/step - loss: 0.3052\n",
      "Epoch 6/20\n",
      "242/242 [==============================] - 0s 937us/step - loss: 0.3046\n",
      "Epoch 7/20\n",
      "242/242 [==============================] - 0s 937us/step - loss: 0.3059\n",
      "Epoch 8/20\n",
      "242/242 [==============================] - 0s 966us/step - loss: 0.2957\n",
      "Epoch 9/20\n",
      "242/242 [==============================] - 0s 938us/step - loss: 0.3035\n",
      "Epoch 10/20\n",
      "242/242 [==============================] - 0s 932us/step - loss: 0.3029\n",
      "Epoch 11/20\n",
      "242/242 [==============================] - 0s 960us/step - loss: 0.3020\n",
      "Epoch 12/20\n",
      "242/242 [==============================] - 0s 918us/step - loss: 0.3027\n",
      "Epoch 13/20\n",
      "242/242 [==============================] - 0s 957us/step - loss: 0.2898\n",
      "Epoch 14/20\n",
      "242/242 [==============================] - 0s 953us/step - loss: 0.2956\n",
      "Epoch 15/20\n",
      "242/242 [==============================] - 0s 904us/step - loss: 0.2980\n",
      "Epoch 16/20\n",
      "242/242 [==============================] - 0s 940us/step - loss: 0.2934\n",
      "Epoch 17/20\n",
      "242/242 [==============================] - 0s 941us/step - loss: 0.2869\n",
      "Epoch 18/20\n",
      "242/242 [==============================] - 0s 990us/step - loss: 0.2879\n",
      "Epoch 19/20\n",
      "242/242 [==============================] - 0s 960us/step - loss: 0.2933\n",
      "Epoch 20/20\n",
      "242/242 [==============================] - 0s 943us/step - loss: 0.2880\n"
     ]
    },
    {
     "data": {
      "text/plain": [
       "<tensorflow.python.keras.callbacks.History at 0x7feee4070090>"
      ]
     },
     "execution_count": 15,
     "metadata": {},
     "output_type": "execute_result"
    }
   ],
   "source": [
    "model.fit(train_embedding, train_labels, epochs=20, verbose=1)"
   ]
  },
  {
   "cell_type": "code",
   "execution_count": 16,
   "metadata": {},
   "outputs": [],
   "source": [
    "def evaluate_predictions(pred_df):\n",
    "    '''RMSE is the metric used to compare predicted score and actual score'''\n",
    "    diff = (pred_df.meanGrade - pred_df.pred).values\n",
    "    mean_squared_diff = np.sum(diff*diff)/diff.shape[0]\n",
    "    rmse = np.sqrt(mean_squared_diff)\n",
    "    return rmse"
   ]
  },
  {
   "cell_type": "code",
   "execution_count": 17,
   "metadata": {},
   "outputs": [
    {
     "data": {
      "text/plain": [
       "0.531665657575536"
      ]
     },
     "execution_count": 17,
     "metadata": {},
     "output_type": "execute_result"
    }
   ],
   "source": [
    "pred = model.predict(train_embedding)\n",
    "train_df['pred'] = pred\n",
    "evaluate_predictions(train_df)"
   ]
  },
  {
   "cell_type": "code",
   "execution_count": 18,
   "metadata": {},
   "outputs": [
    {
     "data": {
      "text/plain": [
       "0.5574142387130734"
      ]
     },
     "execution_count": 18,
     "metadata": {},
     "output_type": "execute_result"
    }
   ],
   "source": [
    "\n",
    "pred = model.predict(test_embeddings)\n",
    "test_df['pred'] = pred\n",
    "evaluate_predictions(test_df)"
   ]
  }
 ],
 "metadata": {
  "kernelspec": {
   "display_name": "Python 3",
   "language": "python",
   "name": "python3"
  },
  "language_info": {
   "codemirror_mode": {
    "name": "ipython",
    "version": 3
   },
   "file_extension": ".py",
   "mimetype": "text/x-python",
   "name": "python",
   "nbconvert_exporter": "python",
   "pygments_lexer": "ipython3",
   "version": "3.7.4"
  }
 },
 "nbformat": 4,
 "nbformat_minor": 4
}
