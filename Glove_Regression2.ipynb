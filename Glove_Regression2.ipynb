{
 "cells": [
  {
   "cell_type": "code",
   "execution_count": 1,
   "metadata": {},
   "outputs": [],
   "source": [
    "import os\n",
    "import numpy as np\n",
    "import re"
   ]
  },
  {
   "cell_type": "code",
   "execution_count": 2,
   "metadata": {},
   "outputs": [],
   "source": [
    "## Download glove embedding (reference .. https://edumunozsala.github.io/BlogEms/jupyter/nlp/classification/embeddings/python/2020/08/15/Intro_NLP_WordEmbeddings_Classification.html)\n",
    "embedding_file = \"../embedding/glove.6B/glove.6B.300d.txt\""
   ]
  },
  {
   "cell_type": "code",
   "execution_count": 3,
   "metadata": {},
   "outputs": [
    {
     "name": "stdout",
     "output_type": "stream",
     "text": [
      "Loaded 400000 word vectors.\n"
     ]
    }
   ],
   "source": [
    "# load the whole embedding into memory\n",
    "embeddings_index = dict()\n",
    "f = open(embedding_file)\n",
    "for line in f:\n",
    "\tvalues = line.split()\n",
    "\tword = values[0]\n",
    "\tcoefs = np.asarray(values[1:], dtype='float32')\n",
    "\tembeddings_index[word] = coefs\n",
    "f.close()\n",
    "print('Loaded %s word vectors.' % len(embeddings_index))"
   ]
  },
  {
   "cell_type": "code",
   "execution_count": 4,
   "metadata": {},
   "outputs": [],
   "source": [
    "import pandas as pd"
   ]
  },
  {
   "cell_type": "code",
   "execution_count": 67,
   "metadata": {},
   "outputs": [],
   "source": [
    "def get_edited_headline(row):\n",
    "    expr = re.compile(\"<(.*?)/>\")\n",
    "    edited_headline = (re.sub(expr,row.edit,row.original)).lower()\n",
    "    #print((edited_headline))\n",
    "    return edited_headline"
   ]
  },
  {
   "cell_type": "code",
   "execution_count": 68,
   "metadata": {},
   "outputs": [],
   "source": [
    "def enhance_df(df):\n",
    "    df['edited'] = df.apply(get_edited_headline,axis=1)\n",
    "    df['edited_len'] = df.apply(lambda row:len(row.edited.split(' ')),axis=1)\n",
    "    return df"
   ]
  },
  {
   "cell_type": "code",
   "execution_count": 69,
   "metadata": {},
   "outputs": [],
   "source": [
    "train_df = pd.read_csv(\"./data/semeval_train.csv\")"
   ]
  },
  {
   "cell_type": "code",
   "execution_count": null,
   "metadata": {},
   "outputs": [],
   "source": []
  },
  {
   "cell_type": "code",
   "execution_count": 70,
   "metadata": {},
   "outputs": [],
   "source": [
    "train_df = enhance_df(train_df)\n"
   ]
  },
  {
   "cell_type": "code",
   "execution_count": 71,
   "metadata": {},
   "outputs": [],
   "source": [
    "from keras.preprocessing.text import Tokenizer"
   ]
  },
  {
   "cell_type": "code",
   "execution_count": 72,
   "metadata": {},
   "outputs": [],
   "source": [
    "docs = train_df.edited\n",
    "t = Tokenizer()\n",
    "t.fit_on_texts(docs)\n",
    "vocab_size = len(t.word_index) + 1"
   ]
  },
  {
   "cell_type": "code",
   "execution_count": 73,
   "metadata": {},
   "outputs": [
    {
     "name": "stdout",
     "output_type": "stream",
     "text": [
      "9925\n"
     ]
    }
   ],
   "source": [
    "print(vocab_size)"
   ]
  },
  {
   "cell_type": "code",
   "execution_count": 74,
   "metadata": {},
   "outputs": [
    {
     "data": {
      "text/plain": [
       "count    7721.000000\n",
       "mean       12.406165\n",
       "std         3.632329\n",
       "min         4.000000\n",
       "25%        10.000000\n",
       "50%        12.000000\n",
       "75%        15.000000\n",
       "max        26.000000\n",
       "Name: edited_len, dtype: float64"
      ]
     },
     "execution_count": 74,
     "metadata": {},
     "output_type": "execute_result"
    }
   ],
   "source": [
    "train_df['edited_len'].describe()"
   ]
  },
  {
   "cell_type": "code",
   "execution_count": 75,
   "metadata": {},
   "outputs": [],
   "source": [
    "max_len = 20"
   ]
  },
  {
   "cell_type": "code",
   "execution_count": 76,
   "metadata": {},
   "outputs": [
    {
     "data": {
      "text/html": [
       "<div>\n",
       "<style scoped>\n",
       "    .dataframe tbody tr th:only-of-type {\n",
       "        vertical-align: middle;\n",
       "    }\n",
       "\n",
       "    .dataframe tbody tr th {\n",
       "        vertical-align: top;\n",
       "    }\n",
       "\n",
       "    .dataframe thead th {\n",
       "        text-align: right;\n",
       "    }\n",
       "</style>\n",
       "<table border=\"1\" class=\"dataframe\">\n",
       "  <thead>\n",
       "    <tr style=\"text-align: right;\">\n",
       "      <th></th>\n",
       "      <th>id</th>\n",
       "      <th>original</th>\n",
       "      <th>edit</th>\n",
       "      <th>grades</th>\n",
       "      <th>meanGrade</th>\n",
       "      <th>edited</th>\n",
       "      <th>edited_len</th>\n",
       "    </tr>\n",
       "  </thead>\n",
       "  <tbody>\n",
       "    <tr>\n",
       "      <th>0</th>\n",
       "      <td>5515</td>\n",
       "      <td>Trump &lt;Lawyers/&gt; Want A Second Special Counsel</td>\n",
       "      <td>toupees</td>\n",
       "      <td>32110</td>\n",
       "      <td>1.4</td>\n",
       "      <td>trump toupees want a second special counsel</td>\n",
       "      <td>7</td>\n",
       "    </tr>\n",
       "    <tr>\n",
       "      <th>1</th>\n",
       "      <td>12469</td>\n",
       "      <td>One industry suddenly has ' unfettered access ...</td>\n",
       "      <td>pie</td>\n",
       "      <td>21110</td>\n",
       "      <td>1.0</td>\n",
       "      <td>one industry suddenly has ' unfettered access ...</td>\n",
       "      <td>22</td>\n",
       "    </tr>\n",
       "    <tr>\n",
       "      <th>2</th>\n",
       "      <td>10947</td>\n",
       "      <td>After healthcare vote , California Rep. Jeff D...</td>\n",
       "      <td>wrote</td>\n",
       "      <td>10000</td>\n",
       "      <td>0.2</td>\n",
       "      <td>after healthcare vote , california rep. jeff d...</td>\n",
       "      <td>19</td>\n",
       "    </tr>\n",
       "    <tr>\n",
       "      <th>3</th>\n",
       "      <td>5518</td>\n",
       "      <td>Since when was there such a low bar for &lt;defam...</td>\n",
       "      <td>planetary</td>\n",
       "      <td>10000</td>\n",
       "      <td>0.2</td>\n",
       "      <td>since when was there such a low bar for planet...</td>\n",
       "      <td>18</td>\n",
       "    </tr>\n",
       "    <tr>\n",
       "      <th>4</th>\n",
       "      <td>11453</td>\n",
       "      <td>Donald Trump Unfollowed Reince Priebus , The U...</td>\n",
       "      <td>Compliment</td>\n",
       "      <td>32221</td>\n",
       "      <td>2.0</td>\n",
       "      <td>donald trump unfollowed reince priebus , the u...</td>\n",
       "      <td>13</td>\n",
       "    </tr>\n",
       "    <tr>\n",
       "      <th>...</th>\n",
       "      <td>...</td>\n",
       "      <td>...</td>\n",
       "      <td>...</td>\n",
       "      <td>...</td>\n",
       "      <td>...</td>\n",
       "      <td>...</td>\n",
       "      <td>...</td>\n",
       "    </tr>\n",
       "    <tr>\n",
       "      <th>7716</th>\n",
       "      <td>10954</td>\n",
       "      <td>If Trump wants to use this memo to fire Rosens...</td>\n",
       "      <td>tweeting</td>\n",
       "      <td>32111</td>\n",
       "      <td>1.6</td>\n",
       "      <td>if trump wants to use this memo to fire rosens...</td>\n",
       "      <td>20</td>\n",
       "    </tr>\n",
       "    <tr>\n",
       "      <th>7717</th>\n",
       "      <td>10932</td>\n",
       "      <td>Russia Will Test ' Unstoppable ' Satan &lt;Missil...</td>\n",
       "      <td>Prayer</td>\n",
       "      <td>33210</td>\n",
       "      <td>1.8</td>\n",
       "      <td>russia will test ' unstoppable ' satan prayer ...</td>\n",
       "      <td>15</td>\n",
       "    </tr>\n",
       "    <tr>\n",
       "      <th>7718</th>\n",
       "      <td>8303</td>\n",
       "      <td>Trump campaign had contact with Russian &lt;intel...</td>\n",
       "      <td>vodka</td>\n",
       "      <td>21111</td>\n",
       "      <td>1.2</td>\n",
       "      <td>trump campaign had contact with russian vodka ...</td>\n",
       "      <td>9</td>\n",
       "    </tr>\n",
       "    <tr>\n",
       "      <th>7719</th>\n",
       "      <td>9277</td>\n",
       "      <td>How Trump 's Twitter account is fueling a GOP ...</td>\n",
       "      <td>electricity</td>\n",
       "      <td>21100</td>\n",
       "      <td>0.8</td>\n",
       "      <td>how trump 's twitter account is fueling a gop ...</td>\n",
       "      <td>11</td>\n",
       "    </tr>\n",
       "    <tr>\n",
       "      <th>7720</th>\n",
       "      <td>123</td>\n",
       "      <td>' Is he confused or are you confused ? ' : Sea...</td>\n",
       "      <td>pool</td>\n",
       "      <td>32110</td>\n",
       "      <td>1.4</td>\n",
       "      <td>' is he confused or are you confused ? ' : sea...</td>\n",
       "      <td>24</td>\n",
       "    </tr>\n",
       "  </tbody>\n",
       "</table>\n",
       "<p>7721 rows × 7 columns</p>\n",
       "</div>"
      ],
      "text/plain": [
       "         id                                           original         edit  \\\n",
       "0      5515     Trump <Lawyers/> Want A Second Special Counsel      toupees   \n",
       "1     12469  One industry suddenly has ' unfettered access ...          pie   \n",
       "2     10947  After healthcare vote , California Rep. Jeff D...        wrote   \n",
       "3      5518  Since when was there such a low bar for <defam...    planetary   \n",
       "4     11453  Donald Trump Unfollowed Reince Priebus , The U...   Compliment   \n",
       "...     ...                                                ...          ...   \n",
       "7716  10954  If Trump wants to use this memo to fire Rosens...     tweeting   \n",
       "7717  10932  Russia Will Test ' Unstoppable ' Satan <Missil...       Prayer   \n",
       "7718   8303  Trump campaign had contact with Russian <intel...        vodka   \n",
       "7719   9277  How Trump 's Twitter account is fueling a GOP ...  electricity   \n",
       "7720    123  ' Is he confused or are you confused ? ' : Sea...         pool   \n",
       "\n",
       "      grades  meanGrade                                             edited  \\\n",
       "0      32110        1.4        trump toupees want a second special counsel   \n",
       "1      21110        1.0  one industry suddenly has ' unfettered access ...   \n",
       "2      10000        0.2  after healthcare vote , california rep. jeff d...   \n",
       "3      10000        0.2  since when was there such a low bar for planet...   \n",
       "4      32221        2.0  donald trump unfollowed reince priebus , the u...   \n",
       "...      ...        ...                                                ...   \n",
       "7716   32111        1.6  if trump wants to use this memo to fire rosens...   \n",
       "7717   33210        1.8  russia will test ' unstoppable ' satan prayer ...   \n",
       "7718   21111        1.2  trump campaign had contact with russian vodka ...   \n",
       "7719   21100        0.8  how trump 's twitter account is fueling a gop ...   \n",
       "7720   32110        1.4  ' is he confused or are you confused ? ' : sea...   \n",
       "\n",
       "      edited_len  \n",
       "0              7  \n",
       "1             22  \n",
       "2             19  \n",
       "3             18  \n",
       "4             13  \n",
       "...          ...  \n",
       "7716          20  \n",
       "7717          15  \n",
       "7718           9  \n",
       "7719          11  \n",
       "7720          24  \n",
       "\n",
       "[7721 rows x 7 columns]"
      ]
     },
     "execution_count": 76,
     "metadata": {},
     "output_type": "execute_result"
    }
   ],
   "source": [
    "train_df"
   ]
  },
  {
   "cell_type": "code",
   "execution_count": 77,
   "metadata": {},
   "outputs": [],
   "source": [
    "docs = train_df.edited"
   ]
  },
  {
   "cell_type": "code",
   "execution_count": 78,
   "metadata": {},
   "outputs": [],
   "source": [
    "sample = train_df.iloc[12]"
   ]
  },
  {
   "cell_type": "code",
   "execution_count": 79,
   "metadata": {},
   "outputs": [],
   "source": [
    "sample_sentence = sample.edited"
   ]
  },
  {
   "cell_type": "code",
   "execution_count": 80,
   "metadata": {},
   "outputs": [
    {
     "data": {
      "text/plain": [
       "\"trump tie : why it 's misunderstood and what to do about it\""
      ]
     },
     "execution_count": 80,
     "metadata": {},
     "output_type": "execute_result"
    }
   ],
   "source": [
    "sample_sentence"
   ]
  },
  {
   "cell_type": "code",
   "execution_count": 81,
   "metadata": {},
   "outputs": [],
   "source": [
    "sample_sentence_words = sample_sentence.split(' ')"
   ]
  },
  {
   "cell_type": "code",
   "execution_count": 82,
   "metadata": {},
   "outputs": [],
   "source": [
    "embeddings = []\n",
    "for word in sample_sentence_words:\n",
    "    if word in embeddings_index:\n",
    "        embeddings.append(embeddings_index[word])\n"
   ]
  },
  {
   "cell_type": "code",
   "execution_count": 83,
   "metadata": {},
   "outputs": [
    {
     "data": {
      "text/plain": [
       "13"
      ]
     },
     "execution_count": 83,
     "metadata": {},
     "output_type": "execute_result"
    }
   ],
   "source": [
    "len(embeddings)"
   ]
  },
  {
   "cell_type": "code",
   "execution_count": 84,
   "metadata": {},
   "outputs": [
    {
     "data": {
      "text/plain": [
       "13"
      ]
     },
     "execution_count": 84,
     "metadata": {},
     "output_type": "execute_result"
    }
   ],
   "source": [
    "len(sample_sentence_words)"
   ]
  },
  {
   "cell_type": "code",
   "execution_count": 85,
   "metadata": {},
   "outputs": [
    {
     "data": {
      "text/plain": [
       "\"Trump <Rally/> : Why it 's misunderstood and what to do about it\""
      ]
     },
     "execution_count": 85,
     "metadata": {},
     "output_type": "execute_result"
    }
   ],
   "source": [
    "sample.original"
   ]
  },
  {
   "cell_type": "code",
   "execution_count": 86,
   "metadata": {},
   "outputs": [
    {
     "data": {
      "text/plain": [
       "(300,)"
      ]
     },
     "execution_count": 86,
     "metadata": {},
     "output_type": "execute_result"
    }
   ],
   "source": [
    "np.mean(embeddings,axis=0).shape"
   ]
  },
  {
   "cell_type": "code",
   "execution_count": 96,
   "metadata": {},
   "outputs": [],
   "source": [
    "def compute_average_embedding(sentence):\n",
    "'Average of all word embedding'\n",
    "    embeddings = []\n",
    "    for word in sentence:\n",
    "        if word in embeddings_index:\n",
    "            embeddings.append(np.asarray(embeddings_index[word]))\n",
    "    if len(embeddings) == 0:\n",
    "        print(sentence)\n",
    "    mean_embedding = np.mean(embeddings,axis=0)\n",
    "    #print(mean_embedding.shape)\n",
    "    return mean_embedding\n",
    "    "
   ]
  },
  {
   "cell_type": "code",
   "execution_count": 97,
   "metadata": {},
   "outputs": [],
   "source": [
    "train_sentences = train_df.edited\n",
    "\n",
    "train_embedding = [compute_average_embedding(sentence) for sentence in train_sentences]\n",
    "\n",
    "train_embeddings = np.asarray(train_embedding)"
   ]
  },
  {
   "cell_type": "code",
   "execution_count": 106,
   "metadata": {},
   "outputs": [],
   "source": [
    "labels = train_df.meanGrade.values"
   ]
  },
  {
   "cell_type": "code",
   "execution_count": 107,
   "metadata": {},
   "outputs": [
    {
     "data": {
      "text/plain": [
       "(7721, 300)"
      ]
     },
     "execution_count": 107,
     "metadata": {},
     "output_type": "execute_result"
    }
   ],
   "source": [
    "train_embeddings.shape"
   ]
  },
  {
   "cell_type": "code",
   "execution_count": 133,
   "metadata": {},
   "outputs": [],
   "source": [
    "from keras.preprocessing.text import Tokenizer\n",
    "from keras.preprocessing.sequence import pad_sequences\n",
    "from keras.models import Sequential\n",
    "from keras.layers import Dense\n",
    "from keras.layers import Flatten\n",
    "from keras.layers import Embedding\n",
    "from keras.layers import Input\n",
    "import keras"
   ]
  },
  {
   "cell_type": "code",
   "execution_count": 150,
   "metadata": {},
   "outputs": [
    {
     "name": "stdout",
     "output_type": "stream",
     "text": [
      "Model: \"sequential_7\"\n",
      "_________________________________________________________________\n",
      "Layer (type)                 Output Shape              Param #   \n",
      "=================================================================\n",
      "dense_18 (Dense)             (None, 32)                9632      \n",
      "_________________________________________________________________\n",
      "dense_19 (Dense)             (None, 32)                1056      \n",
      "_________________________________________________________________\n",
      "dense_20 (Dense)             (None, 1)                 33        \n",
      "=================================================================\n",
      "Total params: 10,721\n",
      "Trainable params: 10,721\n",
      "Non-trainable params: 0\n",
      "_________________________________________________________________\n",
      "None\n"
     ]
    }
   ],
   "source": [
    "# define model\n",
    "model = Sequential()\n",
    " \n",
    "model.add(Input(shape=(300)))\n",
    "model.add(Dense(32,activation='relu'))\n",
    "model.add(Dense(32,activation='relu'))\n",
    "#model.add(Flatten())\n",
    "model.add(Dense(1))\n",
    "# compile the model\n",
    "opt = keras.optimizers.Adam(learning_rate=0.001)\n",
    "model.compile(optimizer=opt, loss='mean_squared_error')\n",
    "# summarize the model\n",
    "print(model.summary())"
   ]
  },
  {
   "cell_type": "code",
   "execution_count": null,
   "metadata": {},
   "outputs": [],
   "source": []
  },
  {
   "cell_type": "code",
   "execution_count": 162,
   "metadata": {},
   "outputs": [
    {
     "name": "stdout",
     "output_type": "stream",
     "text": [
      "Epoch 1/50\n",
      "242/242 [==============================] - 0s 831us/step - loss: 0.3288\n",
      "Epoch 2/50\n",
      "242/242 [==============================] - 0s 818us/step - loss: 0.3290\n",
      "Epoch 3/50\n",
      "242/242 [==============================] - 0s 926us/step - loss: 0.3289\n",
      "Epoch 4/50\n",
      "242/242 [==============================] - 0s 833us/step - loss: 0.3288\n",
      "Epoch 5/50\n",
      "242/242 [==============================] - 0s 788us/step - loss: 0.3289\n",
      "Epoch 6/50\n",
      "242/242 [==============================] - 0s 808us/step - loss: 0.3292\n",
      "Epoch 7/50\n",
      "242/242 [==============================] - 0s 812us/step - loss: 0.3292\n",
      "Epoch 8/50\n",
      "242/242 [==============================] - 0s 797us/step - loss: 0.3290\n",
      "Epoch 9/50\n",
      "242/242 [==============================] - 0s 835us/step - loss: 0.3294\n",
      "Epoch 10/50\n",
      "242/242 [==============================] - 0s 822us/step - loss: 0.3289\n",
      "Epoch 11/50\n",
      "242/242 [==============================] - 0s 827us/step - loss: 0.3286\n",
      "Epoch 12/50\n",
      "242/242 [==============================] - 0s 827us/step - loss: 0.3283\n",
      "Epoch 13/50\n",
      "242/242 [==============================] - 0s 842us/step - loss: 0.3287\n",
      "Epoch 14/50\n",
      "242/242 [==============================] - 0s 829us/step - loss: 0.3288\n",
      "Epoch 15/50\n",
      "242/242 [==============================] - 0s 779us/step - loss: 0.3285\n",
      "Epoch 16/50\n",
      "242/242 [==============================] - 0s 819us/step - loss: 0.3300\n",
      "Epoch 17/50\n",
      "242/242 [==============================] - 0s 823us/step - loss: 0.3287\n",
      "Epoch 18/50\n",
      "242/242 [==============================] - 0s 815us/step - loss: 0.3287\n",
      "Epoch 19/50\n",
      "242/242 [==============================] - 0s 802us/step - loss: 0.3290\n",
      "Epoch 20/50\n",
      "242/242 [==============================] - 0s 781us/step - loss: 0.3284\n",
      "Epoch 21/50\n",
      "242/242 [==============================] - 0s 811us/step - loss: 0.3290\n",
      "Epoch 22/50\n",
      "242/242 [==============================] - 0s 747us/step - loss: 0.3286\n",
      "Epoch 23/50\n",
      "242/242 [==============================] - 0s 799us/step - loss: 0.3286\n",
      "Epoch 24/50\n",
      "242/242 [==============================] - 0s 818us/step - loss: 0.3290\n",
      "Epoch 25/50\n",
      "242/242 [==============================] - 0s 780us/step - loss: 0.3290\n",
      "Epoch 26/50\n",
      "242/242 [==============================] - 0s 846us/step - loss: 0.3288\n",
      "Epoch 27/50\n",
      "242/242 [==============================] - 0s 809us/step - loss: 0.3287\n",
      "Epoch 28/50\n",
      "242/242 [==============================] - 0s 832us/step - loss: 0.3291\n",
      "Epoch 29/50\n",
      "242/242 [==============================] - 0s 869us/step - loss: 0.3287\n",
      "Epoch 30/50\n",
      "242/242 [==============================] - 0s 838us/step - loss: 0.3285\n",
      "Epoch 31/50\n",
      "242/242 [==============================] - 0s 830us/step - loss: 0.3288\n",
      "Epoch 32/50\n",
      "242/242 [==============================] - 0s 786us/step - loss: 0.3285\n",
      "Epoch 33/50\n",
      "242/242 [==============================] - 0s 791us/step - loss: 0.3289\n",
      "Epoch 34/50\n",
      "242/242 [==============================] - 0s 849us/step - loss: 0.3284\n",
      "Epoch 35/50\n",
      "242/242 [==============================] - 0s 816us/step - loss: 0.3291\n",
      "Epoch 36/50\n",
      "242/242 [==============================] - 0s 770us/step - loss: 0.3287\n",
      "Epoch 37/50\n",
      "242/242 [==============================] - 0s 736us/step - loss: 0.3286\n",
      "Epoch 38/50\n",
      "242/242 [==============================] - 0s 801us/step - loss: 0.3286\n",
      "Epoch 39/50\n",
      "242/242 [==============================] - 0s 846us/step - loss: 0.3286\n",
      "Epoch 40/50\n",
      "242/242 [==============================] - 0s 796us/step - loss: 0.3291\n",
      "Epoch 41/50\n",
      "242/242 [==============================] - 0s 834us/step - loss: 0.3285\n",
      "Epoch 42/50\n",
      "242/242 [==============================] - 0s 825us/step - loss: 0.3286\n",
      "Epoch 43/50\n",
      "242/242 [==============================] - 0s 813us/step - loss: 0.3289\n",
      "Epoch 44/50\n",
      "242/242 [==============================] - 0s 826us/step - loss: 0.3295\n",
      "Epoch 45/50\n",
      "242/242 [==============================] - 0s 819us/step - loss: 0.3300\n",
      "Epoch 46/50\n",
      "242/242 [==============================] - 0s 868us/step - loss: 0.3288\n",
      "Epoch 47/50\n",
      "242/242 [==============================] - 0s 830us/step - loss: 0.3290\n",
      "Epoch 48/50\n",
      "242/242 [==============================] - 0s 830us/step - loss: 0.3286\n",
      "Epoch 49/50\n",
      "242/242 [==============================] - 0s 799us/step - loss: 0.3284\n",
      "Epoch 50/50\n",
      "242/242 [==============================] - 0s 827us/step - loss: 0.3288\n"
     ]
    },
    {
     "data": {
      "text/plain": [
       "<tensorflow.python.keras.callbacks.History at 0x7f4b8c1a3090>"
      ]
     },
     "execution_count": 162,
     "metadata": {},
     "output_type": "execute_result"
    }
   ],
   "source": [
    "model.fit(train_embeddings, labels, epochs=50, verbose=1)\n"
   ]
  },
  {
   "cell_type": "code",
   "execution_count": 152,
   "metadata": {},
   "outputs": [],
   "source": [
    "test_df = pd.read_csv(\"./data/semeval_test.csv\")\n",
    "test_df = enhance_df(test_df)"
   ]
  },
  {
   "cell_type": "code",
   "execution_count": 153,
   "metadata": {},
   "outputs": [],
   "source": [
    "test_gt = test_df.meanGrade.values"
   ]
  },
  {
   "cell_type": "code",
   "execution_count": 154,
   "metadata": {},
   "outputs": [],
   "source": [
    "test_sentences = test_df.edited\n",
    "\n",
    "test_embeddings = np.asarray([compute_average_embedding(sentence) for sentence in test_sentences])"
   ]
  },
  {
   "cell_type": "code",
   "execution_count": 155,
   "metadata": {},
   "outputs": [],
   "source": [
    "test_pred = model.predict(test_embeddings)"
   ]
  },
  {
   "cell_type": "code",
   "execution_count": 156,
   "metadata": {},
   "outputs": [],
   "source": [
    "def evaluate_predictions(pred_df):\n",
    "    '''RMSE is the metric used to compare predicted score and actual score'''\n",
    "    diff = (pred_df.meanGrade - pred_df.pred).values\n",
    "    mean_squared_diff = np.sum(diff*diff)/diff.shape[0]\n",
    "    rmse = np.sqrt(mean_squared_diff)\n",
    "    return rmse"
   ]
  },
  {
   "cell_type": "code",
   "execution_count": 157,
   "metadata": {},
   "outputs": [],
   "source": [
    "test_df['pred']= test_pred"
   ]
  },
  {
   "cell_type": "code",
   "execution_count": 158,
   "metadata": {},
   "outputs": [
    {
     "data": {
      "text/plain": [
       "0.5796133298950806"
      ]
     },
     "execution_count": 158,
     "metadata": {},
     "output_type": "execute_result"
    }
   ],
   "source": [
    "evaluate_predictions(test_df)"
   ]
  },
  {
   "cell_type": "code",
   "execution_count": 159,
   "metadata": {},
   "outputs": [],
   "source": [
    "train_pred = model.predict(train_embeddings)"
   ]
  },
  {
   "cell_type": "code",
   "execution_count": 160,
   "metadata": {},
   "outputs": [],
   "source": [
    "train_df['pred'] = train_pred"
   ]
  },
  {
   "cell_type": "code",
   "execution_count": 161,
   "metadata": {},
   "outputs": [
    {
     "data": {
      "text/plain": [
       "0.5722618082490456"
      ]
     },
     "execution_count": 161,
     "metadata": {},
     "output_type": "execute_result"
    }
   ],
   "source": [
    "evaluate_predictions(train_df)"
   ]
  },
  {
   "cell_type": "code",
   "execution_count": null,
   "metadata": {},
   "outputs": [],
   "source": []
  },
  {
   "cell_type": "code",
   "execution_count": null,
   "metadata": {},
   "outputs": [],
   "source": []
  },
  {
   "cell_type": "code",
   "execution_count": null,
   "metadata": {},
   "outputs": [],
   "source": []
  }
 ],
 "metadata": {
  "kernelspec": {
   "display_name": "Python 3",
   "language": "python",
   "name": "python3"
  },
  "language_info": {
   "codemirror_mode": {
    "name": "ipython",
    "version": 3
   },
   "file_extension": ".py",
   "mimetype": "text/x-python",
   "name": "python",
   "nbconvert_exporter": "python",
   "pygments_lexer": "ipython3",
   "version": "3.7.4"
  }
 },
 "nbformat": 4,
 "nbformat_minor": 4
}
