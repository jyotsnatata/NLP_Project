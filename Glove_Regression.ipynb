{
 "cells": [
  {
   "cell_type": "code",
   "execution_count": 1,
   "metadata": {},
   "outputs": [],
   "source": [
    "import os\n",
    "import numpy as np\n",
    "import re"
   ]
  },
  {
   "cell_type": "code",
   "execution_count": 2,
   "metadata": {},
   "outputs": [],
   "source": [
    "## Download glove embedding (reference .. https://edumunozsala.github.io/BlogEms/jupyter/nlp/classification/embeddings/python/2020/08/15/Intro_NLP_WordEmbeddings_Classification.html)\n",
    "embedding_file = \"../embedding/glove.6B/glove.6B.300d.txt\""
   ]
  },
  {
   "cell_type": "code",
   "execution_count": 3,
   "metadata": {},
   "outputs": [
    {
     "name": "stdout",
     "output_type": "stream",
     "text": [
      "Loaded 400000 word vectors.\n"
     ]
    }
   ],
   "source": [
    "# load the whole embedding into memory\n",
    "embeddings_index = dict()\n",
    "f = open(embedding_file)\n",
    "for line in f:\n",
    "\tvalues = line.split()\n",
    "\tword = values[0]\n",
    "\tcoefs = np.asarray(values[1:], dtype='float32')\n",
    "\tembeddings_index[word] = coefs\n",
    "f.close()\n",
    "print('Loaded %s word vectors.' % len(embeddings_index))"
   ]
  },
  {
   "cell_type": "code",
   "execution_count": 4,
   "metadata": {},
   "outputs": [],
   "source": [
    "import pandas as pd"
   ]
  },
  {
   "cell_type": "code",
   "execution_count": 14,
   "metadata": {},
   "outputs": [],
   "source": [
    "def enhance_df(df):\n",
    "    df['edited'] = df.apply(get_edited_headline,axis=1)\n",
    "    df['edited_len'] = df.apply(lambda row:len(row.edited.split(' ')),axis=1)\n",
    "    return df"
   ]
  },
  {
   "cell_type": "code",
   "execution_count": 15,
   "metadata": {},
   "outputs": [],
   "source": [
    "train_df = pd.read_csv(\"./data/semeval_train.csv\")"
   ]
  },
  {
   "cell_type": "code",
   "execution_count": 16,
   "metadata": {},
   "outputs": [],
   "source": [
    "def get_edited_headline(row):\n",
    "    expr = re.compile(\"<(.*?)/>\")\n",
    "    edited_headline = re.sub(expr,row.edit,row.original)\n",
    "    return edited_headline"
   ]
  },
  {
   "cell_type": "code",
   "execution_count": 17,
   "metadata": {},
   "outputs": [],
   "source": [
    "train_df = enhance_df(train_df)\n"
   ]
  },
  {
   "cell_type": "code",
   "execution_count": 18,
   "metadata": {},
   "outputs": [],
   "source": [
    "from keras.preprocessing.text import Tokenizer"
   ]
  },
  {
   "cell_type": "code",
   "execution_count": 19,
   "metadata": {},
   "outputs": [],
   "source": [
    "docs = train_df.edited\n",
    "t = Tokenizer()\n",
    "t.fit_on_texts(docs)\n",
    "vocab_size = len(t.word_index) + 1"
   ]
  },
  {
   "cell_type": "code",
   "execution_count": 20,
   "metadata": {},
   "outputs": [
    {
     "name": "stdout",
     "output_type": "stream",
     "text": [
      "9925\n"
     ]
    }
   ],
   "source": [
    "print(vocab_size)"
   ]
  },
  {
   "cell_type": "code",
   "execution_count": 21,
   "metadata": {},
   "outputs": [
    {
     "data": {
      "text/plain": [
       "count    7721.000000\n",
       "mean       12.406165\n",
       "std         3.632329\n",
       "min         4.000000\n",
       "25%        10.000000\n",
       "50%        12.000000\n",
       "75%        15.000000\n",
       "max        26.000000\n",
       "Name: edited_len, dtype: float64"
      ]
     },
     "execution_count": 21,
     "metadata": {},
     "output_type": "execute_result"
    }
   ],
   "source": [
    "train_df['edited_len'].describe()"
   ]
  },
  {
   "cell_type": "code",
   "execution_count": 22,
   "metadata": {},
   "outputs": [],
   "source": [
    "max_len = 20"
   ]
  },
  {
   "cell_type": "code",
   "execution_count": 23,
   "metadata": {},
   "outputs": [],
   "source": [
    "from keras.preprocessing.sequence import pad_sequences\n",
    "encoded_docs = t.texts_to_sequences(docs)\n",
    "padded_train_docs = pad_sequences(encoded_docs, maxlen=max_len, padding='post')"
   ]
  },
  {
   "cell_type": "code",
   "execution_count": 24,
   "metadata": {},
   "outputs": [],
   "source": [
    "embedding_matrix = np.zeros((vocab_size, 300))\n",
    "for word, i in t.word_index.items():\n",
    "    embedding_vector = embeddings_index.get(word)\n",
    "    if embedding_vector is not None:\n",
    "        embedding_matrix[i] = embedding_vector"
   ]
  },
  {
   "cell_type": "code",
   "execution_count": 26,
   "metadata": {},
   "outputs": [],
   "source": [
    "labels = train_df.meanGrade.values"
   ]
  },
  {
   "cell_type": "code",
   "execution_count": 27,
   "metadata": {},
   "outputs": [],
   "source": [
    "from keras.preprocessing.text import Tokenizer\n",
    "from keras.preprocessing.sequence import pad_sequences\n",
    "from keras.models import Sequential\n",
    "from keras.layers import Dense\n",
    "from keras.layers import Flatten\n",
    "from keras.layers import Embedding"
   ]
  },
  {
   "cell_type": "code",
   "execution_count": 29,
   "metadata": {},
   "outputs": [
    {
     "name": "stdout",
     "output_type": "stream",
     "text": [
      "Model: \"sequential\"\n",
      "_________________________________________________________________\n",
      "Layer (type)                 Output Shape              Param #   \n",
      "=================================================================\n",
      "embedding (Embedding)        (None, 20, 300)           2977500   \n",
      "_________________________________________________________________\n",
      "dense (Dense)                (None, 20, 32)            9632      \n",
      "_________________________________________________________________\n",
      "flatten (Flatten)            (None, 640)               0         \n",
      "_________________________________________________________________\n",
      "dense_1 (Dense)              (None, 1)                 641       \n",
      "=================================================================\n",
      "Total params: 2,987,773\n",
      "Trainable params: 10,273\n",
      "Non-trainable params: 2,977,500\n",
      "_________________________________________________________________\n",
      "None\n"
     ]
    }
   ],
   "source": [
    "# define model\n",
    "model = Sequential()\n",
    "e = Embedding(vocab_size, 300, weights=[embedding_matrix], input_length=20, trainable=False)\n",
    "model.add(e)\n",
    "model.add(Dense(32,activation='relu'))\n",
    "model.add(Flatten())\n",
    "model.add(Dense(1))\n",
    "# compile the model\n",
    "model.compile(optimizer='adam', loss='mean_squared_error')\n",
    "# summarize the model\n",
    "print(model.summary())"
   ]
  },
  {
   "cell_type": "code",
   "execution_count": 30,
   "metadata": {},
   "outputs": [
    {
     "name": "stdout",
     "output_type": "stream",
     "text": [
      "Epoch 1/50\n",
      "242/242 [==============================] - 1s 1ms/step - loss: 0.4426\n",
      "Epoch 2/50\n",
      "242/242 [==============================] - 0s 1ms/step - loss: 0.3065\n",
      "Epoch 3/50\n",
      "242/242 [==============================] - 0s 1ms/step - loss: 0.2771\n",
      "Epoch 4/50\n",
      "242/242 [==============================] - 0s 1ms/step - loss: 0.2494\n",
      "Epoch 5/50\n",
      "242/242 [==============================] - 0s 1ms/step - loss: 0.2258\n",
      "Epoch 6/50\n",
      "242/242 [==============================] - 0s 1ms/step - loss: 0.2204\n",
      "Epoch 7/50\n",
      "242/242 [==============================] - 0s 1ms/step - loss: 0.2029\n",
      "Epoch 8/50\n",
      "242/242 [==============================] - 0s 1ms/step - loss: 0.1902\n",
      "Epoch 9/50\n",
      "242/242 [==============================] - 0s 1ms/step - loss: 0.1799\n",
      "Epoch 10/50\n",
      "242/242 [==============================] - 0s 1ms/step - loss: 0.1697\n",
      "Epoch 11/50\n",
      "242/242 [==============================] - 0s 1ms/step - loss: 0.1646\n",
      "Epoch 12/50\n",
      "242/242 [==============================] - 0s 1ms/step - loss: 0.1583\n",
      "Epoch 13/50\n",
      "242/242 [==============================] - 0s 1ms/step - loss: 0.1463\n",
      "Epoch 14/50\n",
      "242/242 [==============================] - 0s 1ms/step - loss: 0.1406\n",
      "Epoch 15/50\n",
      "242/242 [==============================] - 0s 1ms/step - loss: 0.1398\n",
      "Epoch 16/50\n",
      "242/242 [==============================] - 0s 1ms/step - loss: 0.1321\n",
      "Epoch 17/50\n",
      "242/242 [==============================] - 0s 1ms/step - loss: 0.1258\n",
      "Epoch 18/50\n",
      "242/242 [==============================] - 0s 1ms/step - loss: 0.1262\n",
      "Epoch 19/50\n",
      "242/242 [==============================] - 0s 1ms/step - loss: 0.1266\n",
      "Epoch 20/50\n",
      "242/242 [==============================] - 0s 1ms/step - loss: 0.1204\n",
      "Epoch 21/50\n",
      "242/242 [==============================] - 0s 1ms/step - loss: 0.1144\n",
      "Epoch 22/50\n",
      "242/242 [==============================] - 0s 1ms/step - loss: 0.1149\n",
      "Epoch 23/50\n",
      "242/242 [==============================] - 0s 1ms/step - loss: 0.1133\n",
      "Epoch 24/50\n",
      "242/242 [==============================] - 0s 1ms/step - loss: 0.1070\n",
      "Epoch 25/50\n",
      "242/242 [==============================] - 0s 1ms/step - loss: 0.1079\n",
      "Epoch 26/50\n",
      "242/242 [==============================] - 0s 1ms/step - loss: 0.1056\n",
      "Epoch 27/50\n",
      "242/242 [==============================] - 0s 1ms/step - loss: 0.1053\n",
      "Epoch 28/50\n",
      "242/242 [==============================] - 0s 1ms/step - loss: 0.0970\n",
      "Epoch 29/50\n",
      "242/242 [==============================] - 0s 1ms/step - loss: 0.0995\n",
      "Epoch 30/50\n",
      "242/242 [==============================] - 0s 1ms/step - loss: 0.0988\n",
      "Epoch 31/50\n",
      "242/242 [==============================] - 0s 1ms/step - loss: 0.0954\n",
      "Epoch 32/50\n",
      "242/242 [==============================] - 0s 1ms/step - loss: 0.0935\n",
      "Epoch 33/50\n",
      "242/242 [==============================] - 0s 1ms/step - loss: 0.0906\n",
      "Epoch 34/50\n",
      "242/242 [==============================] - 0s 1ms/step - loss: 0.0856\n",
      "Epoch 35/50\n",
      "242/242 [==============================] - 0s 1ms/step - loss: 0.0874\n",
      "Epoch 36/50\n",
      "242/242 [==============================] - 0s 1ms/step - loss: 0.0853\n",
      "Epoch 37/50\n",
      "242/242 [==============================] - 0s 1ms/step - loss: 0.0868\n",
      "Epoch 38/50\n",
      "242/242 [==============================] - 0s 1ms/step - loss: 0.0840\n",
      "Epoch 39/50\n",
      "242/242 [==============================] - 0s 1ms/step - loss: 0.0829\n",
      "Epoch 40/50\n",
      "242/242 [==============================] - 0s 1ms/step - loss: 0.0800\n",
      "Epoch 41/50\n",
      "242/242 [==============================] - 0s 1ms/step - loss: 0.0789\n",
      "Epoch 42/50\n",
      "242/242 [==============================] - 0s 1ms/step - loss: 0.0760\n",
      "Epoch 43/50\n",
      "242/242 [==============================] - 0s 1ms/step - loss: 0.0759\n",
      "Epoch 44/50\n",
      "242/242 [==============================] - 0s 1ms/step - loss: 0.0757\n",
      "Epoch 45/50\n",
      "242/242 [==============================] - 0s 1ms/step - loss: 0.0764\n",
      "Epoch 46/50\n",
      "242/242 [==============================] - 0s 1ms/step - loss: 0.0721\n",
      "Epoch 47/50\n",
      "242/242 [==============================] - 0s 1ms/step - loss: 0.0734\n",
      "Epoch 48/50\n",
      "242/242 [==============================] - 0s 1ms/step - loss: 0.0730\n",
      "Epoch 49/50\n",
      "242/242 [==============================] - 0s 1ms/step - loss: 0.0686\n",
      "Epoch 50/50\n",
      "242/242 [==============================] - 0s 1ms/step - loss: 0.0710\n"
     ]
    },
    {
     "data": {
      "text/plain": [
       "<tensorflow.python.keras.callbacks.History at 0x7f91dc259f90>"
      ]
     },
     "execution_count": 30,
     "metadata": {},
     "output_type": "execute_result"
    }
   ],
   "source": [
    "# fit the model\n",
    "model.fit(padded_train_docs, labels, epochs=50, verbose=1)\n",
    "\n",
    "\n"
   ]
  },
  {
   "cell_type": "code",
   "execution_count": 31,
   "metadata": {},
   "outputs": [],
   "source": [
    "test_df = pd.read_csv(\"./data/semeval_test.csv\")\n",
    "test_df = enhance_df(test_df)"
   ]
  },
  {
   "cell_type": "code",
   "execution_count": 32,
   "metadata": {},
   "outputs": [],
   "source": [
    "test_docs =test_df.edited\n",
    "encoded_test = t.texts_to_sequences(test_docs)\n",
    "padded_test = pad_sequences(encoded_test, maxlen=max_len, padding='post')"
   ]
  },
  {
   "cell_type": "code",
   "execution_count": 33,
   "metadata": {},
   "outputs": [],
   "source": [
    "test_gt = test_df.meanGrade.values"
   ]
  },
  {
   "cell_type": "code",
   "execution_count": 34,
   "metadata": {},
   "outputs": [],
   "source": [
    "test_preds=model.predict(padded_test)"
   ]
  },
  {
   "cell_type": "code",
   "execution_count": 35,
   "metadata": {},
   "outputs": [],
   "source": [
    "test_df['pred'] = test_preds"
   ]
  },
  {
   "cell_type": "code",
   "execution_count": 36,
   "metadata": {},
   "outputs": [],
   "source": [
    "def evaluate_predictions(pred_df):\n",
    "    '''RMSE is the metric used to compare predicted score and actual score'''\n",
    "    diff = (pred_df.meanGrade - pred_df.pred).values\n",
    "    mean_squared_diff = np.sum(diff*diff)/diff.shape[0]\n",
    "    rmse = np.sqrt(mean_squared_diff)\n",
    "    return rmse"
   ]
  },
  {
   "cell_type": "code",
   "execution_count": 37,
   "metadata": {},
   "outputs": [
    {
     "data": {
      "text/plain": [
       "0.7387709270806264"
      ]
     },
     "execution_count": 37,
     "metadata": {},
     "output_type": "execute_result"
    }
   ],
   "source": [
    "evaluate_predictions(test_df)"
   ]
  },
  {
   "cell_type": "code",
   "execution_count": 39,
   "metadata": {},
   "outputs": [
    {
     "ename": "AttributeError",
     "evalue": "'numpy.ndarray' object has no attribute 'meanGrade'",
     "output_type": "error",
     "traceback": [
      "\u001b[0;31m---------------------------------------------------------------------------\u001b[0m",
      "\u001b[0;31mAttributeError\u001b[0m                            Traceback (most recent call last)",
      "\u001b[0;32m<ipython-input-39-ba694925b159>\u001b[0m in \u001b[0;36m<module>\u001b[0;34m\u001b[0m\n\u001b[1;32m      1\u001b[0m \u001b[0mtrain_preds\u001b[0m \u001b[0;34m=\u001b[0m \u001b[0mmodel\u001b[0m\u001b[0;34m.\u001b[0m\u001b[0mpredict\u001b[0m\u001b[0;34m(\u001b[0m\u001b[0mpadded_train_docs\u001b[0m\u001b[0;34m)\u001b[0m\u001b[0;34m\u001b[0m\u001b[0;34m\u001b[0m\u001b[0m\n\u001b[1;32m      2\u001b[0m \u001b[0mtrain_df\u001b[0m\u001b[0;34m[\u001b[0m\u001b[0;34m'pred'\u001b[0m\u001b[0;34m]\u001b[0m\u001b[0;34m=\u001b[0m\u001b[0mtrain_preds\u001b[0m\u001b[0;34m\u001b[0m\u001b[0;34m\u001b[0m\u001b[0m\n\u001b[0;32m----> 3\u001b[0;31m \u001b[0mevaluate_predictions\u001b[0m\u001b[0;34m(\u001b[0m\u001b[0mtrain_preds\u001b[0m\u001b[0;34m)\u001b[0m\u001b[0;34m\u001b[0m\u001b[0;34m\u001b[0m\u001b[0m\n\u001b[0m",
      "\u001b[0;32m<ipython-input-36-d947d9209c34>\u001b[0m in \u001b[0;36mevaluate_predictions\u001b[0;34m(pred_df)\u001b[0m\n\u001b[1;32m      1\u001b[0m \u001b[0;32mdef\u001b[0m \u001b[0mevaluate_predictions\u001b[0m\u001b[0;34m(\u001b[0m\u001b[0mpred_df\u001b[0m\u001b[0;34m)\u001b[0m\u001b[0;34m:\u001b[0m\u001b[0;34m\u001b[0m\u001b[0;34m\u001b[0m\u001b[0m\n\u001b[1;32m      2\u001b[0m     \u001b[0;34m'''RMSE is the metric used to compare predicted score and actual score'''\u001b[0m\u001b[0;34m\u001b[0m\u001b[0;34m\u001b[0m\u001b[0m\n\u001b[0;32m----> 3\u001b[0;31m     \u001b[0mdiff\u001b[0m \u001b[0;34m=\u001b[0m \u001b[0;34m(\u001b[0m\u001b[0mpred_df\u001b[0m\u001b[0;34m.\u001b[0m\u001b[0mmeanGrade\u001b[0m \u001b[0;34m-\u001b[0m \u001b[0mpred_df\u001b[0m\u001b[0;34m.\u001b[0m\u001b[0mpred\u001b[0m\u001b[0;34m)\u001b[0m\u001b[0;34m.\u001b[0m\u001b[0mvalues\u001b[0m\u001b[0;34m\u001b[0m\u001b[0;34m\u001b[0m\u001b[0m\n\u001b[0m\u001b[1;32m      4\u001b[0m     \u001b[0mmean_squared_diff\u001b[0m \u001b[0;34m=\u001b[0m \u001b[0mnp\u001b[0m\u001b[0;34m.\u001b[0m\u001b[0msum\u001b[0m\u001b[0;34m(\u001b[0m\u001b[0mdiff\u001b[0m\u001b[0;34m*\u001b[0m\u001b[0mdiff\u001b[0m\u001b[0;34m)\u001b[0m\u001b[0;34m/\u001b[0m\u001b[0mdiff\u001b[0m\u001b[0;34m.\u001b[0m\u001b[0mshape\u001b[0m\u001b[0;34m[\u001b[0m\u001b[0;36m0\u001b[0m\u001b[0;34m]\u001b[0m\u001b[0;34m\u001b[0m\u001b[0;34m\u001b[0m\u001b[0m\n\u001b[1;32m      5\u001b[0m     \u001b[0mrmse\u001b[0m \u001b[0;34m=\u001b[0m \u001b[0mnp\u001b[0m\u001b[0;34m.\u001b[0m\u001b[0msqrt\u001b[0m\u001b[0;34m(\u001b[0m\u001b[0mmean_squared_diff\u001b[0m\u001b[0;34m)\u001b[0m\u001b[0;34m\u001b[0m\u001b[0;34m\u001b[0m\u001b[0m\n",
      "\u001b[0;31mAttributeError\u001b[0m: 'numpy.ndarray' object has no attribute 'meanGrade'"
     ]
    }
   ],
   "source": [
    "train_preds = model.predict(padded_train_docs)\n",
    "train_df['pred']=train_preds\n",
    "evaluate_predictions(train_preds)"
   ]
  },
  {
   "cell_type": "code",
   "execution_count": null,
   "metadata": {},
   "outputs": [],
   "source": []
  }
 ],
 "metadata": {
  "kernelspec": {
   "display_name": "Python 3",
   "language": "python",
   "name": "python3"
  },
  "language_info": {
   "codemirror_mode": {
    "name": "ipython",
    "version": 3
   },
   "file_extension": ".py",
   "mimetype": "text/x-python",
   "name": "python",
   "nbconvert_exporter": "python",
   "pygments_lexer": "ipython3",
   "version": "3.7.4"
  }
 },
 "nbformat": 4,
 "nbformat_minor": 4
}
