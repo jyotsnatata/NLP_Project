{
 "cells": [
  {
   "cell_type": "code",
   "execution_count": 1,
   "metadata": {},
   "outputs": [],
   "source": [
    "# Split the available training data to train and test\n",
    "# compute a baseline model\n",
    "# Evaluate the model and report score"
   ]
  },
  {
   "cell_type": "code",
   "execution_count": 35,
   "metadata": {},
   "outputs": [],
   "source": [
    "import pandas as pd\n",
    "import numpy as np\n",
    "import sys\n",
    "import os"
   ]
  },
  {
   "cell_type": "code",
   "execution_count": 36,
   "metadata": {},
   "outputs": [],
   "source": [
    "\n",
    "#path to training file from repo\n",
    "train_file = \"./data/train.csv\""
   ]
  },
  {
   "cell_type": "code",
   "execution_count": 37,
   "metadata": {},
   "outputs": [],
   "source": [
    "dataset_df = pd.read_csv(train_file)"
   ]
  },
  {
   "cell_type": "code",
   "execution_count": 38,
   "metadata": {},
   "outputs": [
    {
     "name": "stdout",
     "output_type": "stream",
     "text": [
      "<class 'pandas.core.frame.DataFrame'>\n",
      "RangeIndex: 9652 entries, 0 to 9651\n",
      "Data columns (total 5 columns):\n",
      " #   Column     Non-Null Count  Dtype  \n",
      "---  ------     --------------  -----  \n",
      " 0   id         9652 non-null   int64  \n",
      " 1   original   9652 non-null   object \n",
      " 2   edit       9652 non-null   object \n",
      " 3   grades     9652 non-null   int64  \n",
      " 4   meanGrade  9652 non-null   float64\n",
      "dtypes: float64(1), int64(2), object(2)\n",
      "memory usage: 377.2+ KB\n"
     ]
    }
   ],
   "source": [
    "dataset_df.info()"
   ]
  },
  {
   "cell_type": "code",
   "execution_count": 39,
   "metadata": {},
   "outputs": [],
   "source": [
    "from sklearn.model_selection import train_test_split"
   ]
  },
  {
   "cell_type": "code",
   "execution_count": 40,
   "metadata": {},
   "outputs": [],
   "source": [
    "train_df,test_df = train_test_split(dataset_df,test_size=0.2,random_state=12)"
   ]
  },
  {
   "cell_type": "code",
   "execution_count": 41,
   "metadata": {},
   "outputs": [],
   "source": [
    "train_df.to_csv(\"./data/semeval_train.csv\")\n",
    "test_df.to_csv(\"./data/semeval_test.csv\")"
   ]
  },
  {
   "cell_type": "code",
   "execution_count": 42,
   "metadata": {},
   "outputs": [],
   "source": [
    "def baseline_model(train_df,test_df):\n",
    "    pred = np.mean(train_df.meanGrade)\n",
    "    test_df['pred'] = pred\n",
    "    return test_df"
   ]
  },
  {
   "cell_type": "code",
   "execution_count": 43,
   "metadata": {},
   "outputs": [
    {
     "name": "stderr",
     "output_type": "stream",
     "text": [
      "/home/deepak/anaconda3/lib/python3.7/site-packages/ipykernel_launcher.py:3: SettingWithCopyWarning: \n",
      "A value is trying to be set on a copy of a slice from a DataFrame.\n",
      "Try using .loc[row_indexer,col_indexer] = value instead\n",
      "\n",
      "See the caveats in the documentation: https://pandas.pydata.org/pandas-docs/stable/user_guide/indexing.html#returning-a-view-versus-a-copy\n",
      "  This is separate from the ipykernel package so we can avoid doing imports until\n"
     ]
    }
   ],
   "source": [
    "baseline_predictions = baseline_model(train_df,test_df)"
   ]
  },
  {
   "cell_type": "code",
   "execution_count": 44,
   "metadata": {},
   "outputs": [
    {
     "data": {
      "text/html": [
       "<div>\n",
       "<style scoped>\n",
       "    .dataframe tbody tr th:only-of-type {\n",
       "        vertical-align: middle;\n",
       "    }\n",
       "\n",
       "    .dataframe tbody tr th {\n",
       "        vertical-align: top;\n",
       "    }\n",
       "\n",
       "    .dataframe thead th {\n",
       "        text-align: right;\n",
       "    }\n",
       "</style>\n",
       "<table border=\"1\" class=\"dataframe\">\n",
       "  <thead>\n",
       "    <tr style=\"text-align: right;\">\n",
       "      <th></th>\n",
       "      <th>id</th>\n",
       "      <th>original</th>\n",
       "      <th>edit</th>\n",
       "      <th>grades</th>\n",
       "      <th>meanGrade</th>\n",
       "      <th>pred</th>\n",
       "    </tr>\n",
       "  </thead>\n",
       "  <tbody>\n",
       "    <tr>\n",
       "      <th>2168</th>\n",
       "      <td>7848</td>\n",
       "      <td>The Daily 202 : Loyalty is a one-way street fo...</td>\n",
       "      <td>cars</td>\n",
       "      <td>21100</td>\n",
       "      <td>0.8</td>\n",
       "      <td>0.938505</td>\n",
       "    </tr>\n",
       "    <tr>\n",
       "      <th>8897</th>\n",
       "      <td>9500</td>\n",
       "      <td>Trump Bodyguard Keith Schiller Testifies Russi...</td>\n",
       "      <td>Tacos</td>\n",
       "      <td>32211</td>\n",
       "      <td>1.8</td>\n",
       "      <td>0.938505</td>\n",
       "    </tr>\n",
       "    <tr>\n",
       "      <th>2962</th>\n",
       "      <td>10518</td>\n",
       "      <td>Trump Jr. says missing out on India &lt;deals/&gt; b...</td>\n",
       "      <td>food</td>\n",
       "      <td>32111</td>\n",
       "      <td>1.6</td>\n",
       "      <td>0.938505</td>\n",
       "    </tr>\n",
       "    <tr>\n",
       "      <th>1266</th>\n",
       "      <td>11882</td>\n",
       "      <td>WHCD Comedian Michelle Wolf : Trump a ‘ Pussy ...</td>\n",
       "      <td>Hear</td>\n",
       "      <td>10000</td>\n",
       "      <td>0.2</td>\n",
       "      <td>0.938505</td>\n",
       "    </tr>\n",
       "    <tr>\n",
       "      <th>3407</th>\n",
       "      <td>1239</td>\n",
       "      <td>US calls Russia 's decision to &lt;cut/&gt; its dipl...</td>\n",
       "      <td>vellicate</td>\n",
       "      <td>0</td>\n",
       "      <td>0.0</td>\n",
       "      <td>0.938505</td>\n",
       "    </tr>\n",
       "    <tr>\n",
       "      <th>...</th>\n",
       "      <td>...</td>\n",
       "      <td>...</td>\n",
       "      <td>...</td>\n",
       "      <td>...</td>\n",
       "      <td>...</td>\n",
       "      <td>...</td>\n",
       "    </tr>\n",
       "    <tr>\n",
       "      <th>3283</th>\n",
       "      <td>14408</td>\n",
       "      <td>&lt;Republicans/&gt; are trying to destroy the very...</td>\n",
       "      <td>Hyenas</td>\n",
       "      <td>11000</td>\n",
       "      <td>0.4</td>\n",
       "      <td>0.938505</td>\n",
       "    </tr>\n",
       "    <tr>\n",
       "      <th>3792</th>\n",
       "      <td>10610</td>\n",
       "      <td>Schumer to Trump : Do n't even &lt;think/&gt; about it</td>\n",
       "      <td>dance</td>\n",
       "      <td>11000</td>\n",
       "      <td>0.4</td>\n",
       "      <td>0.938505</td>\n",
       "    </tr>\n",
       "    <tr>\n",
       "      <th>1485</th>\n",
       "      <td>9470</td>\n",
       "      <td>Trump Nominees Make Clear Plans to Sweep Away ...</td>\n",
       "      <td>Dust</td>\n",
       "      <td>21100</td>\n",
       "      <td>0.8</td>\n",
       "      <td>0.938505</td>\n",
       "    </tr>\n",
       "    <tr>\n",
       "      <th>4847</th>\n",
       "      <td>7987</td>\n",
       "      <td>Lawmaker Who Assaulted &lt;Reporter/&gt; Fights Cour...</td>\n",
       "      <td>camera</td>\n",
       "      <td>21100</td>\n",
       "      <td>0.8</td>\n",
       "      <td>0.938505</td>\n",
       "    </tr>\n",
       "    <tr>\n",
       "      <th>268</th>\n",
       "      <td>3967</td>\n",
       "      <td>Trump Russia claims : &lt;Mood/&gt; in the White Hou...</td>\n",
       "      <td>coffee</td>\n",
       "      <td>21110</td>\n",
       "      <td>1.0</td>\n",
       "      <td>0.938505</td>\n",
       "    </tr>\n",
       "  </tbody>\n",
       "</table>\n",
       "<p>1931 rows × 6 columns</p>\n",
       "</div>"
      ],
      "text/plain": [
       "         id                                           original       edit  \\\n",
       "2168   7848  The Daily 202 : Loyalty is a one-way street fo...       cars   \n",
       "8897   9500  Trump Bodyguard Keith Schiller Testifies Russi...      Tacos   \n",
       "2962  10518  Trump Jr. says missing out on India <deals/> b...       food   \n",
       "1266  11882  WHCD Comedian Michelle Wolf : Trump a ‘ Pussy ...       Hear   \n",
       "3407   1239  US calls Russia 's decision to <cut/> its dipl...  vellicate   \n",
       "...     ...                                                ...        ...   \n",
       "3283  14408   <Republicans/> are trying to destroy the very...     Hyenas   \n",
       "3792  10610   Schumer to Trump : Do n't even <think/> about it      dance   \n",
       "1485   9470  Trump Nominees Make Clear Plans to Sweep Away ...       Dust   \n",
       "4847   7987  Lawmaker Who Assaulted <Reporter/> Fights Cour...     camera   \n",
       "268    3967  Trump Russia claims : <Mood/> in the White Hou...     coffee   \n",
       "\n",
       "      grades  meanGrade      pred  \n",
       "2168   21100        0.8  0.938505  \n",
       "8897   32211        1.8  0.938505  \n",
       "2962   32111        1.6  0.938505  \n",
       "1266   10000        0.2  0.938505  \n",
       "3407       0        0.0  0.938505  \n",
       "...      ...        ...       ...  \n",
       "3283   11000        0.4  0.938505  \n",
       "3792   11000        0.4  0.938505  \n",
       "1485   21100        0.8  0.938505  \n",
       "4847   21100        0.8  0.938505  \n",
       "268    21110        1.0  0.938505  \n",
       "\n",
       "[1931 rows x 6 columns]"
      ]
     },
     "execution_count": 44,
     "metadata": {},
     "output_type": "execute_result"
    }
   ],
   "source": [
    "baseline_predictions"
   ]
  },
  {
   "cell_type": "code",
   "execution_count": 45,
   "metadata": {},
   "outputs": [],
   "source": [
    "def evaluate_predictions(pred_df):\n",
    "    '''RMSE is the metric used to compare predicted score and actual score'''\n",
    "    diff = (pred_df.meanGrade - pred_df.pred).values\n",
    "    mean_squared_diff = np.sum(diff*diff)/diff.shape[0]\n",
    "    rmse = np.sqrt(mean_squared_diff)\n",
    "    return rmse"
   ]
  },
  {
   "cell_type": "code",
   "execution_count": 46,
   "metadata": {},
   "outputs": [
    {
     "name": "stdout",
     "output_type": "stream",
     "text": [
      "0.5866748103649477\n"
     ]
    }
   ],
   "source": [
    "baseline_score = evaluate_predictions(pred_df)\n",
    "print(baseline_score)"
   ]
  }
 ],
 "metadata": {
  "kernelspec": {
   "display_name": "Python 3",
   "language": "python",
   "name": "python3"
  },
  "language_info": {
   "codemirror_mode": {
    "name": "ipython",
    "version": 3
   },
   "file_extension": ".py",
   "mimetype": "text/x-python",
   "name": "python",
   "nbconvert_exporter": "python",
   "pygments_lexer": "ipython3",
   "version": "3.7.4"
  }
 },
 "nbformat": 4,
 "nbformat_minor": 4
}
