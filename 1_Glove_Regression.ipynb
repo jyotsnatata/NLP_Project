{
 "cells": [
  {
   "cell_type": "code",
   "execution_count": 1,
   "metadata": {},
   "outputs": [],
   "source": [
    "import os\n",
    "import numpy as np\n",
    "import re"
   ]
  },
  {
   "cell_type": "code",
   "execution_count": 2,
   "metadata": {},
   "outputs": [],
   "source": [
    "## Download glove embedding (reference .. https://edumunozsala.github.io/BlogEms/jupyter/nlp/classification/embeddings/python/2020/08/15/Intro_NLP_WordEmbeddings_Classification.html)\n",
    "embedding_file = \"../embedding/glove.6B/glove.6B.300d.txt\""
   ]
  },
  {
   "cell_type": "code",
   "execution_count": 3,
   "metadata": {},
   "outputs": [
    {
     "name": "stdout",
     "output_type": "stream",
     "text": [
      "Loaded 400000 word vectors.\n"
     ]
    }
   ],
   "source": [
    "# load the whole embedding into memory\n",
    "embeddings_index = dict()\n",
    "f = open(embedding_file)\n",
    "for line in f:\n",
    "\tvalues = line.split()\n",
    "\tword = values[0]\n",
    "\tcoefs = np.asarray(values[1:], dtype='float32')\n",
    "\tembeddings_index[word] = coefs\n",
    "f.close()\n",
    "print('Loaded %s word vectors.' % len(embeddings_index))"
   ]
  },
  {
   "cell_type": "code",
   "execution_count": 4,
   "metadata": {},
   "outputs": [],
   "source": [
    "import pandas as pd"
   ]
  },
  {
   "cell_type": "code",
   "execution_count": 5,
   "metadata": {},
   "outputs": [],
   "source": [
    "def get_edited_headline(row):\n",
    "    expr = re.compile(\"<(.*?)/>\")\n",
    "    edited_headline = (re.sub(expr,row.edit,row.original)).lower()\n",
    "    #print((edited_headline))\n",
    "    return edited_headline\n",
    "\n",
    "def get_context(row):\n",
    "    \n",
    "    expr = re.compile(\"<(.*?)/>\")\n",
    "    context = (re.sub(expr,' ',row.original)).lower()\n",
    "    #print((edited_headline))\n",
    "    return context\n",
    "\n",
    "def make_original_string(row):\n",
    "    s=row.original\n",
    "    expr = re.compile(\"<\")\n",
    "    s=re.sub(expr,'',s).lower()\n",
    "    expr = re.compile(\">\")\n",
    "    s=re.sub(expr,'',s).lower()\n",
    "    return s\n",
    "\n",
    "def enhance_df(df):\n",
    "    df['edited'] = df.apply(get_edited_headline,axis=1)\n",
    "    df['edited_len'] = df.apply(lambda row:len(row.edited.split(' ')),axis=1)\n",
    "    df['context'] = df.apply(get_context,axis=1)\n",
    "    df['original_string']=df.apply(make_original_string,axis=1)\n",
    "    df['edit'] = df.edit.str.lower()\n",
    "    return df"
   ]
  },
  {
   "cell_type": "code",
   "execution_count": 6,
   "metadata": {},
   "outputs": [
    {
     "data": {
      "text/html": [
       "<div>\n",
       "<style scoped>\n",
       "    .dataframe tbody tr th:only-of-type {\n",
       "        vertical-align: middle;\n",
       "    }\n",
       "\n",
       "    .dataframe tbody tr th {\n",
       "        vertical-align: top;\n",
       "    }\n",
       "\n",
       "    .dataframe thead th {\n",
       "        text-align: right;\n",
       "    }\n",
       "</style>\n",
       "<table border=\"1\" class=\"dataframe\">\n",
       "  <thead>\n",
       "    <tr style=\"text-align: right;\">\n",
       "      <th></th>\n",
       "      <th>id</th>\n",
       "      <th>original</th>\n",
       "      <th>edit</th>\n",
       "      <th>grades</th>\n",
       "      <th>meanGrade</th>\n",
       "      <th>edited</th>\n",
       "      <th>edited_len</th>\n",
       "      <th>context</th>\n",
       "      <th>original_string</th>\n",
       "    </tr>\n",
       "  </thead>\n",
       "  <tbody>\n",
       "    <tr>\n",
       "      <th>0</th>\n",
       "      <td>5515</td>\n",
       "      <td>Trump &lt;Lawyers/&gt; Want A Second Special Counsel</td>\n",
       "      <td>toupees</td>\n",
       "      <td>32110</td>\n",
       "      <td>1.4</td>\n",
       "      <td>trump toupees want a second special counsel</td>\n",
       "      <td>7</td>\n",
       "      <td>trump   want a second special counsel</td>\n",
       "      <td>trump lawyers/ want a second special counsel</td>\n",
       "    </tr>\n",
       "    <tr>\n",
       "      <th>1</th>\n",
       "      <td>12469</td>\n",
       "      <td>One industry suddenly has ' unfettered access ...</td>\n",
       "      <td>pie</td>\n",
       "      <td>21110</td>\n",
       "      <td>1.0</td>\n",
       "      <td>one industry suddenly has ' unfettered access ...</td>\n",
       "      <td>22</td>\n",
       "      <td>one industry suddenly has ' unfettered access ...</td>\n",
       "      <td>one industry suddenly has ' unfettered access ...</td>\n",
       "    </tr>\n",
       "    <tr>\n",
       "      <th>2</th>\n",
       "      <td>10947</td>\n",
       "      <td>After healthcare vote , California Rep. Jeff D...</td>\n",
       "      <td>wrote</td>\n",
       "      <td>10000</td>\n",
       "      <td>0.2</td>\n",
       "      <td>after healthcare vote , california rep. jeff d...</td>\n",
       "      <td>19</td>\n",
       "      <td>after healthcare vote , california rep. jeff d...</td>\n",
       "      <td>after healthcare vote , california rep. jeff d...</td>\n",
       "    </tr>\n",
       "    <tr>\n",
       "      <th>3</th>\n",
       "      <td>5518</td>\n",
       "      <td>Since when was there such a low bar for &lt;defam...</td>\n",
       "      <td>planetary</td>\n",
       "      <td>10000</td>\n",
       "      <td>0.2</td>\n",
       "      <td>since when was there such a low bar for planet...</td>\n",
       "      <td>18</td>\n",
       "      <td>since when was there such a low bar for   sett...</td>\n",
       "      <td>since when was there such a low bar for defama...</td>\n",
       "    </tr>\n",
       "    <tr>\n",
       "      <th>4</th>\n",
       "      <td>11453</td>\n",
       "      <td>Donald Trump Unfollowed Reince Priebus , The U...</td>\n",
       "      <td>compliment</td>\n",
       "      <td>32221</td>\n",
       "      <td>2.0</td>\n",
       "      <td>donald trump unfollowed reince priebus , the u...</td>\n",
       "      <td>13</td>\n",
       "      <td>donald trump unfollowed reince priebus , the u...</td>\n",
       "      <td>donald trump unfollowed reince priebus , the u...</td>\n",
       "    </tr>\n",
       "  </tbody>\n",
       "</table>\n",
       "</div>"
      ],
      "text/plain": [
       "      id                                           original        edit  \\\n",
       "0   5515     Trump <Lawyers/> Want A Second Special Counsel     toupees   \n",
       "1  12469  One industry suddenly has ' unfettered access ...         pie   \n",
       "2  10947  After healthcare vote , California Rep. Jeff D...       wrote   \n",
       "3   5518  Since when was there such a low bar for <defam...   planetary   \n",
       "4  11453  Donald Trump Unfollowed Reince Priebus , The U...  compliment   \n",
       "\n",
       "   grades  meanGrade                                             edited  \\\n",
       "0   32110        1.4        trump toupees want a second special counsel   \n",
       "1   21110        1.0  one industry suddenly has ' unfettered access ...   \n",
       "2   10000        0.2  after healthcare vote , california rep. jeff d...   \n",
       "3   10000        0.2  since when was there such a low bar for planet...   \n",
       "4   32221        2.0  donald trump unfollowed reince priebus , the u...   \n",
       "\n",
       "   edited_len                                            context  \\\n",
       "0           7              trump   want a second special counsel   \n",
       "1          22  one industry suddenly has ' unfettered access ...   \n",
       "2          19  after healthcare vote , california rep. jeff d...   \n",
       "3          18  since when was there such a low bar for   sett...   \n",
       "4          13  donald trump unfollowed reince priebus , the u...   \n",
       "\n",
       "                                     original_string  \n",
       "0       trump lawyers/ want a second special counsel  \n",
       "1  one industry suddenly has ' unfettered access ...  \n",
       "2  after healthcare vote , california rep. jeff d...  \n",
       "3  since when was there such a low bar for defama...  \n",
       "4  donald trump unfollowed reince priebus , the u...  "
      ]
     },
     "execution_count": 6,
     "metadata": {},
     "output_type": "execute_result"
    }
   ],
   "source": [
    "train_df = pd.read_csv(\"./data/semeval_train.csv\")\n",
    "\n",
    "train_df = enhance_df(train_df)\n",
    "train_df.head()\n"
   ]
  },
  {
   "cell_type": "code",
   "execution_count": 7,
   "metadata": {},
   "outputs": [],
   "source": [
    "test_df = pd.read_csv(\"./data/semeval_test.csv\")\n",
    "test_df = enhance_df(test_df)"
   ]
  },
  {
   "cell_type": "code",
   "execution_count": 8,
   "metadata": {},
   "outputs": [],
   "source": [
    "from keras.preprocessing.text import Tokenizer"
   ]
  },
  {
   "cell_type": "code",
   "execution_count": 9,
   "metadata": {},
   "outputs": [],
   "source": [
    "docs = train_df.edited\n",
    "t = Tokenizer()\n",
    "t.fit_on_texts(docs)\n",
    "vocab_size = len(t.word_index) + 1"
   ]
  },
  {
   "cell_type": "code",
   "execution_count": 10,
   "metadata": {},
   "outputs": [
    {
     "name": "stdout",
     "output_type": "stream",
     "text": [
      "9925\n"
     ]
    }
   ],
   "source": [
    "print(vocab_size)"
   ]
  },
  {
   "cell_type": "code",
   "execution_count": 11,
   "metadata": {},
   "outputs": [
    {
     "data": {
      "text/plain": [
       "count    7721.000000\n",
       "mean       12.406165\n",
       "std         3.632329\n",
       "min         4.000000\n",
       "25%        10.000000\n",
       "50%        12.000000\n",
       "75%        15.000000\n",
       "max        26.000000\n",
       "Name: edited_len, dtype: float64"
      ]
     },
     "execution_count": 11,
     "metadata": {},
     "output_type": "execute_result"
    }
   ],
   "source": [
    "train_df['edited_len'].describe()"
   ]
  },
  {
   "cell_type": "code",
   "execution_count": 12,
   "metadata": {},
   "outputs": [],
   "source": [
    "max_len = 20"
   ]
  },
  {
   "cell_type": "code",
   "execution_count": 13,
   "metadata": {},
   "outputs": [
    {
     "data": {
      "text/html": [
       "<div>\n",
       "<style scoped>\n",
       "    .dataframe tbody tr th:only-of-type {\n",
       "        vertical-align: middle;\n",
       "    }\n",
       "\n",
       "    .dataframe tbody tr th {\n",
       "        vertical-align: top;\n",
       "    }\n",
       "\n",
       "    .dataframe thead th {\n",
       "        text-align: right;\n",
       "    }\n",
       "</style>\n",
       "<table border=\"1\" class=\"dataframe\">\n",
       "  <thead>\n",
       "    <tr style=\"text-align: right;\">\n",
       "      <th></th>\n",
       "      <th>id</th>\n",
       "      <th>original</th>\n",
       "      <th>edit</th>\n",
       "      <th>grades</th>\n",
       "      <th>meanGrade</th>\n",
       "      <th>edited</th>\n",
       "      <th>edited_len</th>\n",
       "      <th>context</th>\n",
       "      <th>original_string</th>\n",
       "    </tr>\n",
       "  </thead>\n",
       "  <tbody>\n",
       "    <tr>\n",
       "      <th>0</th>\n",
       "      <td>5515</td>\n",
       "      <td>Trump &lt;Lawyers/&gt; Want A Second Special Counsel</td>\n",
       "      <td>toupees</td>\n",
       "      <td>32110</td>\n",
       "      <td>1.4</td>\n",
       "      <td>trump toupees want a second special counsel</td>\n",
       "      <td>7</td>\n",
       "      <td>trump   want a second special counsel</td>\n",
       "      <td>trump lawyers/ want a second special counsel</td>\n",
       "    </tr>\n",
       "    <tr>\n",
       "      <th>1</th>\n",
       "      <td>12469</td>\n",
       "      <td>One industry suddenly has ' unfettered access ...</td>\n",
       "      <td>pie</td>\n",
       "      <td>21110</td>\n",
       "      <td>1.0</td>\n",
       "      <td>one industry suddenly has ' unfettered access ...</td>\n",
       "      <td>22</td>\n",
       "      <td>one industry suddenly has ' unfettered access ...</td>\n",
       "      <td>one industry suddenly has ' unfettered access ...</td>\n",
       "    </tr>\n",
       "    <tr>\n",
       "      <th>2</th>\n",
       "      <td>10947</td>\n",
       "      <td>After healthcare vote , California Rep. Jeff D...</td>\n",
       "      <td>wrote</td>\n",
       "      <td>10000</td>\n",
       "      <td>0.2</td>\n",
       "      <td>after healthcare vote , california rep. jeff d...</td>\n",
       "      <td>19</td>\n",
       "      <td>after healthcare vote , california rep. jeff d...</td>\n",
       "      <td>after healthcare vote , california rep. jeff d...</td>\n",
       "    </tr>\n",
       "    <tr>\n",
       "      <th>3</th>\n",
       "      <td>5518</td>\n",
       "      <td>Since when was there such a low bar for &lt;defam...</td>\n",
       "      <td>planetary</td>\n",
       "      <td>10000</td>\n",
       "      <td>0.2</td>\n",
       "      <td>since when was there such a low bar for planet...</td>\n",
       "      <td>18</td>\n",
       "      <td>since when was there such a low bar for   sett...</td>\n",
       "      <td>since when was there such a low bar for defama...</td>\n",
       "    </tr>\n",
       "    <tr>\n",
       "      <th>4</th>\n",
       "      <td>11453</td>\n",
       "      <td>Donald Trump Unfollowed Reince Priebus , The U...</td>\n",
       "      <td>compliment</td>\n",
       "      <td>32221</td>\n",
       "      <td>2.0</td>\n",
       "      <td>donald trump unfollowed reince priebus , the u...</td>\n",
       "      <td>13</td>\n",
       "      <td>donald trump unfollowed reince priebus , the u...</td>\n",
       "      <td>donald trump unfollowed reince priebus , the u...</td>\n",
       "    </tr>\n",
       "    <tr>\n",
       "      <th>...</th>\n",
       "      <td>...</td>\n",
       "      <td>...</td>\n",
       "      <td>...</td>\n",
       "      <td>...</td>\n",
       "      <td>...</td>\n",
       "      <td>...</td>\n",
       "      <td>...</td>\n",
       "      <td>...</td>\n",
       "      <td>...</td>\n",
       "    </tr>\n",
       "    <tr>\n",
       "      <th>7716</th>\n",
       "      <td>10954</td>\n",
       "      <td>If Trump wants to use this memo to fire Rosens...</td>\n",
       "      <td>tweeting</td>\n",
       "      <td>32111</td>\n",
       "      <td>1.6</td>\n",
       "      <td>if trump wants to use this memo to fire rosens...</td>\n",
       "      <td>20</td>\n",
       "      <td>if trump wants to use this memo to fire rosens...</td>\n",
       "      <td>if trump wants to use this memo to fire rosens...</td>\n",
       "    </tr>\n",
       "    <tr>\n",
       "      <th>7717</th>\n",
       "      <td>10932</td>\n",
       "      <td>Russia Will Test ' Unstoppable ' Satan &lt;Missil...</td>\n",
       "      <td>prayer</td>\n",
       "      <td>33210</td>\n",
       "      <td>1.8</td>\n",
       "      <td>russia will test ' unstoppable ' satan prayer ...</td>\n",
       "      <td>15</td>\n",
       "      <td>russia will test ' unstoppable ' satan   by en...</td>\n",
       "      <td>russia will test ' unstoppable ' satan missile...</td>\n",
       "    </tr>\n",
       "    <tr>\n",
       "      <th>7718</th>\n",
       "      <td>8303</td>\n",
       "      <td>Trump campaign had contact with Russian &lt;intel...</td>\n",
       "      <td>vodka</td>\n",
       "      <td>21111</td>\n",
       "      <td>1.2</td>\n",
       "      <td>trump campaign had contact with russian vodka ...</td>\n",
       "      <td>9</td>\n",
       "      <td>trump campaign had contact with russian   : nyt</td>\n",
       "      <td>trump campaign had contact with russian intell...</td>\n",
       "    </tr>\n",
       "    <tr>\n",
       "      <th>7719</th>\n",
       "      <td>9277</td>\n",
       "      <td>How Trump 's Twitter account is fueling a GOP ...</td>\n",
       "      <td>electricity</td>\n",
       "      <td>21100</td>\n",
       "      <td>0.8</td>\n",
       "      <td>how trump 's twitter account is fueling a gop ...</td>\n",
       "      <td>11</td>\n",
       "      <td>how trump 's twitter account is fueling a gop ...</td>\n",
       "      <td>how trump 's twitter account is fueling a gop ...</td>\n",
       "    </tr>\n",
       "    <tr>\n",
       "      <th>7720</th>\n",
       "      <td>123</td>\n",
       "      <td>' Is he confused or are you confused ? ' : Sea...</td>\n",
       "      <td>pool</td>\n",
       "      <td>32110</td>\n",
       "      <td>1.4</td>\n",
       "      <td>' is he confused or are you confused ? ' : sea...</td>\n",
       "      <td>24</td>\n",
       "      <td>' is he confused or are you confused ? ' : sea...</td>\n",
       "      <td>' is he confused or are you confused ? ' : sea...</td>\n",
       "    </tr>\n",
       "  </tbody>\n",
       "</table>\n",
       "<p>7721 rows × 9 columns</p>\n",
       "</div>"
      ],
      "text/plain": [
       "         id                                           original         edit  \\\n",
       "0      5515     Trump <Lawyers/> Want A Second Special Counsel      toupees   \n",
       "1     12469  One industry suddenly has ' unfettered access ...          pie   \n",
       "2     10947  After healthcare vote , California Rep. Jeff D...        wrote   \n",
       "3      5518  Since when was there such a low bar for <defam...    planetary   \n",
       "4     11453  Donald Trump Unfollowed Reince Priebus , The U...   compliment   \n",
       "...     ...                                                ...          ...   \n",
       "7716  10954  If Trump wants to use this memo to fire Rosens...     tweeting   \n",
       "7717  10932  Russia Will Test ' Unstoppable ' Satan <Missil...       prayer   \n",
       "7718   8303  Trump campaign had contact with Russian <intel...        vodka   \n",
       "7719   9277  How Trump 's Twitter account is fueling a GOP ...  electricity   \n",
       "7720    123  ' Is he confused or are you confused ? ' : Sea...         pool   \n",
       "\n",
       "      grades  meanGrade                                             edited  \\\n",
       "0      32110        1.4        trump toupees want a second special counsel   \n",
       "1      21110        1.0  one industry suddenly has ' unfettered access ...   \n",
       "2      10000        0.2  after healthcare vote , california rep. jeff d...   \n",
       "3      10000        0.2  since when was there such a low bar for planet...   \n",
       "4      32221        2.0  donald trump unfollowed reince priebus , the u...   \n",
       "...      ...        ...                                                ...   \n",
       "7716   32111        1.6  if trump wants to use this memo to fire rosens...   \n",
       "7717   33210        1.8  russia will test ' unstoppable ' satan prayer ...   \n",
       "7718   21111        1.2  trump campaign had contact with russian vodka ...   \n",
       "7719   21100        0.8  how trump 's twitter account is fueling a gop ...   \n",
       "7720   32110        1.4  ' is he confused or are you confused ? ' : sea...   \n",
       "\n",
       "      edited_len                                            context  \\\n",
       "0              7              trump   want a second special counsel   \n",
       "1             22  one industry suddenly has ' unfettered access ...   \n",
       "2             19  after healthcare vote , california rep. jeff d...   \n",
       "3             18  since when was there such a low bar for   sett...   \n",
       "4             13  donald trump unfollowed reince priebus , the u...   \n",
       "...          ...                                                ...   \n",
       "7716          20  if trump wants to use this memo to fire rosens...   \n",
       "7717          15  russia will test ' unstoppable ' satan   by en...   \n",
       "7718           9    trump campaign had contact with russian   : nyt   \n",
       "7719          11  how trump 's twitter account is fueling a gop ...   \n",
       "7720          24  ' is he confused or are you confused ? ' : sea...   \n",
       "\n",
       "                                        original_string  \n",
       "0          trump lawyers/ want a second special counsel  \n",
       "1     one industry suddenly has ' unfettered access ...  \n",
       "2     after healthcare vote , california rep. jeff d...  \n",
       "3     since when was there such a low bar for defama...  \n",
       "4     donald trump unfollowed reince priebus , the u...  \n",
       "...                                                 ...  \n",
       "7716  if trump wants to use this memo to fire rosens...  \n",
       "7717  russia will test ' unstoppable ' satan missile...  \n",
       "7718  trump campaign had contact with russian intell...  \n",
       "7719  how trump 's twitter account is fueling a gop ...  \n",
       "7720  ' is he confused or are you confused ? ' : sea...  \n",
       "\n",
       "[7721 rows x 9 columns]"
      ]
     },
     "execution_count": 13,
     "metadata": {},
     "output_type": "execute_result"
    }
   ],
   "source": [
    "train_df"
   ]
  },
  {
   "cell_type": "code",
   "execution_count": 14,
   "metadata": {},
   "outputs": [],
   "source": [
    "def compute_average_embedding(sentence):\n",
    "    embeddings = []\n",
    "    for word in sentence:\n",
    "        if word in embeddings_index:\n",
    "            embeddings.append(np.asarray(embeddings_index[word]))\n",
    "    if len(embeddings) == 0:\n",
    "        print(sentence)\n",
    "    mean_embedding = np.mean(embeddings,axis=0)\n",
    "    #print(mean_embedding.shape)\n",
    "    return mean_embedding\n",
    "    "
   ]
  },
  {
   "cell_type": "code",
   "execution_count": 15,
   "metadata": {},
   "outputs": [],
   "source": [
    "def compute_embedding_1(df):\n",
    "    '''Dot product of both sentence averages'''\n",
    "    edited_sentences = df.edited\n",
    "    edited_embeddings = np.asarray([compute_average_embedding(sentence) for sentence in edited_sentences])\n",
    "    \n",
    "    original_sentences = df.original_string\n",
    "    original_embeddings = np.asarray([compute_average_embedding(sentence) for sentence in original_sentences])\n",
    "    \n",
    "    #return (edited_embeddings * original_embeddings)\n",
    "    return edited_embeddings\n",
    "\n",
    "    \n",
    "    "
   ]
  },
  {
   "cell_type": "code",
   "execution_count": 16,
   "metadata": {},
   "outputs": [],
   "source": [
    "train_embeddings = compute_embedding_1(train_df)\n",
    "test_embeddings = compute_embedding_1(test_df)"
   ]
  },
  {
   "cell_type": "code",
   "execution_count": 17,
   "metadata": {},
   "outputs": [],
   "source": [
    "labels = train_df.meanGrade.values"
   ]
  },
  {
   "cell_type": "code",
   "execution_count": 18,
   "metadata": {},
   "outputs": [
    {
     "data": {
      "text/plain": [
       "(7721, 300)"
      ]
     },
     "execution_count": 18,
     "metadata": {},
     "output_type": "execute_result"
    }
   ],
   "source": [
    "train_embeddings.shape"
   ]
  },
  {
   "cell_type": "code",
   "execution_count": 19,
   "metadata": {},
   "outputs": [],
   "source": [
    "from keras.preprocessing.text import Tokenizer\n",
    "from keras.preprocessing.sequence import pad_sequences\n",
    "from keras.models import Sequential\n",
    "from keras.layers import Dense\n",
    "from keras.layers import Flatten\n",
    "from keras.layers import Embedding\n",
    "from keras.layers import Input\n",
    "import keras"
   ]
  },
  {
   "cell_type": "code",
   "execution_count": 20,
   "metadata": {},
   "outputs": [
    {
     "name": "stdout",
     "output_type": "stream",
     "text": [
      "Model: \"sequential\"\n",
      "_________________________________________________________________\n",
      "Layer (type)                 Output Shape              Param #   \n",
      "=================================================================\n",
      "dense (Dense)                (None, 32)                9632      \n",
      "_________________________________________________________________\n",
      "dense_1 (Dense)              (None, 32)                1056      \n",
      "_________________________________________________________________\n",
      "dense_2 (Dense)              (None, 1)                 33        \n",
      "=================================================================\n",
      "Total params: 10,721\n",
      "Trainable params: 10,721\n",
      "Non-trainable params: 0\n",
      "_________________________________________________________________\n",
      "None\n"
     ]
    }
   ],
   "source": [
    "# define model\n",
    "model = Sequential()\n",
    " \n",
    "model.add(Input(shape=(300)))\n",
    "model.add(Dense(32,activation='relu'))\n",
    "model.add(Dense(32,activation='relu'))\n",
    "#model.add(Flatten())\n",
    "model.add(Dense(1))\n",
    "# compile the model\n",
    "opt = keras.optimizers.Adam(learning_rate=0.001)\n",
    "model.compile(optimizer=opt, loss='mean_squared_error')\n",
    "# summarize the model\n",
    "print(model.summary())"
   ]
  },
  {
   "cell_type": "code",
   "execution_count": null,
   "metadata": {},
   "outputs": [],
   "source": []
  },
  {
   "cell_type": "code",
   "execution_count": 21,
   "metadata": {},
   "outputs": [
    {
     "name": "stdout",
     "output_type": "stream",
     "text": [
      "Epoch 1/5\n",
      "242/242 [==============================] - 1s 853us/step - loss: 0.3490\n",
      "Epoch 2/5\n",
      "242/242 [==============================] - 0s 842us/step - loss: 0.3456\n",
      "Epoch 3/5\n",
      "242/242 [==============================] - 0s 790us/step - loss: 0.3384\n",
      "Epoch 4/5\n",
      "242/242 [==============================] - 0s 793us/step - loss: 0.3370\n",
      "Epoch 5/5\n",
      "242/242 [==============================] - 0s 816us/step - loss: 0.3459\n"
     ]
    },
    {
     "data": {
      "text/plain": [
       "<tensorflow.python.keras.callbacks.History at 0x7fb192ad8fd0>"
      ]
     },
     "execution_count": 21,
     "metadata": {},
     "output_type": "execute_result"
    }
   ],
   "source": [
    "model.fit(train_embeddings, labels, epochs=5, verbose=1)\n"
   ]
  },
  {
   "cell_type": "code",
   "execution_count": null,
   "metadata": {},
   "outputs": [],
   "source": []
  },
  {
   "cell_type": "code",
   "execution_count": 22,
   "metadata": {},
   "outputs": [],
   "source": [
    "test_gt = test_df.meanGrade.values"
   ]
  },
  {
   "cell_type": "code",
   "execution_count": 23,
   "metadata": {},
   "outputs": [],
   "source": [
    "test_pred = model.predict(test_embeddings)"
   ]
  },
  {
   "cell_type": "code",
   "execution_count": 24,
   "metadata": {},
   "outputs": [],
   "source": [
    "def evaluate_predictions(pred_df):\n",
    "    '''RMSE is the metric used to compare predicted score and actual score'''\n",
    "    diff = (pred_df.meanGrade - pred_df.pred).values\n",
    "    mean_squared_diff = np.sum(diff*diff)/diff.shape[0]\n",
    "    rmse = np.sqrt(mean_squared_diff)\n",
    "    return rmse"
   ]
  },
  {
   "cell_type": "code",
   "execution_count": 25,
   "metadata": {},
   "outputs": [],
   "source": [
    "test_df['pred']= test_pred"
   ]
  },
  {
   "cell_type": "code",
   "execution_count": 26,
   "metadata": {},
   "outputs": [
    {
     "data": {
      "text/plain": [
       "0.5813892694721935"
      ]
     },
     "execution_count": 26,
     "metadata": {},
     "output_type": "execute_result"
    }
   ],
   "source": [
    "evaluate_predictions(test_df)"
   ]
  },
  {
   "cell_type": "code",
   "execution_count": 27,
   "metadata": {},
   "outputs": [],
   "source": [
    "train_pred = model.predict(train_embeddings)"
   ]
  },
  {
   "cell_type": "code",
   "execution_count": 28,
   "metadata": {},
   "outputs": [],
   "source": [
    "train_df['pred'] = train_pred"
   ]
  },
  {
   "cell_type": "code",
   "execution_count": 29,
   "metadata": {},
   "outputs": [
    {
     "data": {
      "text/plain": [
       "0.5792917711474913"
      ]
     },
     "execution_count": 29,
     "metadata": {},
     "output_type": "execute_result"
    }
   ],
   "source": [
    "evaluate_predictions(train_df)"
   ]
  },
  {
   "cell_type": "code",
   "execution_count": 30,
   "metadata": {},
   "outputs": [
    {
     "data": {
      "text/html": [
       "<div>\n",
       "<style scoped>\n",
       "    .dataframe tbody tr th:only-of-type {\n",
       "        vertical-align: middle;\n",
       "    }\n",
       "\n",
       "    .dataframe tbody tr th {\n",
       "        vertical-align: top;\n",
       "    }\n",
       "\n",
       "    .dataframe thead th {\n",
       "        text-align: right;\n",
       "    }\n",
       "</style>\n",
       "<table border=\"1\" class=\"dataframe\">\n",
       "  <thead>\n",
       "    <tr style=\"text-align: right;\">\n",
       "      <th></th>\n",
       "      <th>id</th>\n",
       "      <th>original</th>\n",
       "      <th>edit</th>\n",
       "      <th>grades</th>\n",
       "      <th>meanGrade</th>\n",
       "      <th>edited</th>\n",
       "      <th>edited_len</th>\n",
       "      <th>context</th>\n",
       "      <th>original_string</th>\n",
       "    </tr>\n",
       "  </thead>\n",
       "  <tbody>\n",
       "    <tr>\n",
       "      <th>0</th>\n",
       "      <td>5515</td>\n",
       "      <td>Trump &lt;Lawyers/&gt; Want A Second Special Counsel</td>\n",
       "      <td>toupees</td>\n",
       "      <td>32110</td>\n",
       "      <td>1.4</td>\n",
       "      <td>trump toupees want a second special counsel</td>\n",
       "      <td>7</td>\n",
       "      <td>trump   want a second special counsel</td>\n",
       "      <td>trump lawyers/ want a second special counsel</td>\n",
       "    </tr>\n",
       "    <tr>\n",
       "      <th>1</th>\n",
       "      <td>12469</td>\n",
       "      <td>One industry suddenly has ' unfettered access ...</td>\n",
       "      <td>pie</td>\n",
       "      <td>21110</td>\n",
       "      <td>1.0</td>\n",
       "      <td>one industry suddenly has ' unfettered access ...</td>\n",
       "      <td>22</td>\n",
       "      <td>one industry suddenly has ' unfettered access ...</td>\n",
       "      <td>one industry suddenly has ' unfettered access ...</td>\n",
       "    </tr>\n",
       "    <tr>\n",
       "      <th>2</th>\n",
       "      <td>10947</td>\n",
       "      <td>After healthcare vote , California Rep. Jeff D...</td>\n",
       "      <td>wrote</td>\n",
       "      <td>10000</td>\n",
       "      <td>0.2</td>\n",
       "      <td>after healthcare vote , california rep. jeff d...</td>\n",
       "      <td>19</td>\n",
       "      <td>after healthcare vote , california rep. jeff d...</td>\n",
       "      <td>after healthcare vote , california rep. jeff d...</td>\n",
       "    </tr>\n",
       "    <tr>\n",
       "      <th>3</th>\n",
       "      <td>5518</td>\n",
       "      <td>Since when was there such a low bar for &lt;defam...</td>\n",
       "      <td>planetary</td>\n",
       "      <td>10000</td>\n",
       "      <td>0.2</td>\n",
       "      <td>since when was there such a low bar for planet...</td>\n",
       "      <td>18</td>\n",
       "      <td>since when was there such a low bar for   sett...</td>\n",
       "      <td>since when was there such a low bar for defama...</td>\n",
       "    </tr>\n",
       "    <tr>\n",
       "      <th>4</th>\n",
       "      <td>11453</td>\n",
       "      <td>Donald Trump Unfollowed Reince Priebus , The U...</td>\n",
       "      <td>compliment</td>\n",
       "      <td>32221</td>\n",
       "      <td>2.0</td>\n",
       "      <td>donald trump unfollowed reince priebus , the u...</td>\n",
       "      <td>13</td>\n",
       "      <td>donald trump unfollowed reince priebus , the u...</td>\n",
       "      <td>donald trump unfollowed reince priebus , the u...</td>\n",
       "    </tr>\n",
       "  </tbody>\n",
       "</table>\n",
       "</div>"
      ],
      "text/plain": [
       "      id                                           original        edit  \\\n",
       "0   5515     Trump <Lawyers/> Want A Second Special Counsel     toupees   \n",
       "1  12469  One industry suddenly has ' unfettered access ...         pie   \n",
       "2  10947  After healthcare vote , California Rep. Jeff D...       wrote   \n",
       "3   5518  Since when was there such a low bar for <defam...   planetary   \n",
       "4  11453  Donald Trump Unfollowed Reince Priebus , The U...  compliment   \n",
       "\n",
       "   grades  meanGrade                                             edited  \\\n",
       "0   32110        1.4        trump toupees want a second special counsel   \n",
       "1   21110        1.0  one industry suddenly has ' unfettered access ...   \n",
       "2   10000        0.2  after healthcare vote , california rep. jeff d...   \n",
       "3   10000        0.2  since when was there such a low bar for planet...   \n",
       "4   32221        2.0  donald trump unfollowed reince priebus , the u...   \n",
       "\n",
       "   edited_len                                            context  \\\n",
       "0           7              trump   want a second special counsel   \n",
       "1          22  one industry suddenly has ' unfettered access ...   \n",
       "2          19  after healthcare vote , california rep. jeff d...   \n",
       "3          18  since when was there such a low bar for   sett...   \n",
       "4          13  donald trump unfollowed reince priebus , the u...   \n",
       "\n",
       "                                     original_string  \n",
       "0       trump lawyers/ want a second special counsel  \n",
       "1  one industry suddenly has ' unfettered access ...  \n",
       "2  after healthcare vote , california rep. jeff d...  \n",
       "3  since when was there such a low bar for defama...  \n",
       "4  donald trump unfollowed reince priebus , the u...  "
      ]
     },
     "execution_count": 30,
     "metadata": {},
     "output_type": "execute_result"
    }
   ],
   "source": [
    "train_df = pd.read_csv(\"./data/semeval_train.csv\")\n",
    "\n",
    "train_df = enhance_df(train_df)\n",
    "train_df.head()"
   ]
  },
  {
   "cell_type": "code",
   "execution_count": 31,
   "metadata": {},
   "outputs": [
    {
     "name": "stdout",
     "output_type": "stream",
     "text": [
      "u.s. , south korea revise trade deal , korean wrestler faces quota\n",
      "U.S. , South Korea revise trade deal , Korean <steel/> faces quota\n",
      "0.8 0.8001803755760193\n",
      "gop senators break glasses to protect mueller from trump\n",
      "GOP senators break <ranks/> to protect Mueller from Trump\n",
      "1.0 0.9979852437973022\n",
      "californians paid babysitters extra : the state assembly should investigate at&amp;t ’s cross-subsidies .\n",
      "Californians Paid <Billions/> Extra : The State Assembly Should Investigate AT&amp;T ’s Cross-Subsidies .\n",
      "0.8 0.7977107167243958\n",
      "cia director warns iranian general on carpets \n",
      "CIA director warns Iranian general on <Iraq/> \n",
      "0.8 0.8028097748756409\n",
      "trump says he may pull sunshine from california\n",
      "Trump Says He May Pull <Immigration Enforcement/> From California\n",
      "1.0 0.9960620403289795\n"
     ]
    }
   ],
   "source": [
    "test_df['diff'] = np.abs(test_df.pred - test_df.meanGrade)\n",
    "\n",
    "\n",
    "test_df=test_df.sort_values(by='diff')\n",
    "\n",
    "head=test_df.head()\n",
    "\n",
    "tail=test_df.tail()\n",
    "\n",
    "## Low errors\n",
    "for i,row in head.iterrows():\n",
    "    print(row.edited)\n",
    "    print(row.original)\n",
    "    print(row.meanGrade,row.pred)"
   ]
  },
  {
   "cell_type": "code",
   "execution_count": 32,
   "metadata": {},
   "outputs": [
    {
     "name": "stdout",
     "output_type": "stream",
     "text": [
      "us navy ship fired tequila shots at an iranian boat in the persian gulf\n",
      "US Navy ship fired <warning/> shots at an Iranian boat in the Persian Gulf\n",
      "2.6 0.8740834593772888\n",
      "missouri gov. eric greitens admits to affair , denies enjoyment \n",
      "Missouri Gov. Eric Greitens admits to affair , denies <blackmail/> \n",
      "2.6 0.8334009051322937\n",
      "trump admits tariffs could cause ' pain ' in buttock \n",
      "Trump admits tariffs could cause ' pain ' in <markets/> \n",
      "2.8 0.9912739396095276\n",
      "trump forced sons to wear \" very tiny \" bathing suits and higher heels after buying beauty pageants\n",
      "Trump forced <women/> to wear \" very tiny \" bathing suits and higher heels after buying beauty pageants\n",
      "2.8 0.9389268755912781\n",
      "the last president to kiss an fbi director ? bill clinton\n",
      "The last president to <fire/> an FBI director ? Bill Clinton\n",
      "2.8 0.8810884356498718\n"
     ]
    }
   ],
   "source": [
    "# High Errors\n",
    "\n",
    "for i,row in tail.iterrows():\n",
    "    print(row.edited)\n",
    "    print(row.original)\n",
    "    print(row.meanGrade,row.pred)"
   ]
  },
  {
   "cell_type": "code",
   "execution_count": null,
   "metadata": {},
   "outputs": [],
   "source": []
  }
 ],
 "metadata": {
  "kernelspec": {
   "display_name": "Python 3",
   "language": "python",
   "name": "python3"
  },
  "language_info": {
   "codemirror_mode": {
    "name": "ipython",
    "version": 3
   },
   "file_extension": ".py",
   "mimetype": "text/x-python",
   "name": "python",
   "nbconvert_exporter": "python",
   "pygments_lexer": "ipython3",
   "version": "3.7.4"
  }
 },
 "nbformat": 4,
 "nbformat_minor": 4
}
