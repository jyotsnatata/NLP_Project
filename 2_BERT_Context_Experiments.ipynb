{
 "cells": [
  {
   "cell_type": "code",
   "execution_count": 1,
   "metadata": {},
   "outputs": [],
   "source": [
    "import os\n",
    "import numpy as np\n",
    "import re\n",
    "\n",
    "import pandas as pd"
   ]
  },
  {
   "cell_type": "code",
   "execution_count": 27,
   "metadata": {},
   "outputs": [],
   "source": [
    "def get_edited_headline(row):\n",
    "    expr = re.compile(\"<(.*?)/>\")\n",
    "    edited_headline = (re.sub(expr,row.edit,row.original)).lower()\n",
    "    #print((edited_headline))\n",
    "    return edited_headline\n",
    "\n",
    "def get_context(row):\n",
    "    \n",
    "    expr = re.compile(\"<(.*?)/>\")\n",
    "    context = (re.sub(expr,' ',row.original)).lower()\n",
    "    #print((edited_headline))\n",
    "    return context\n",
    "\n",
    "def mask_context(row):\n",
    "    expr = re.compile(\"<(.*?)/>\")\n",
    "    edited_headline = (re.sub(expr,'[MASK]',row.original)).lower()\n",
    "    #print((edited_headline))\n",
    "    return edited_headline\n",
    "\n",
    "def make_original_string(row):\n",
    "    s=row.original\n",
    "    expr = re.compile(\"<\")\n",
    "    s=re.sub(expr,'',s).lower()\n",
    "    expr = re.compile(\">\")\n",
    "    s=re.sub(expr,'',s).lower()\n",
    "    return s\n",
    "\n",
    "def enhance_df(df):\n",
    "    df['edited'] = df.apply(get_edited_headline,axis=1)\n",
    "    df['edited_len'] = df.apply(lambda row:len(row.edited.split(' ')),axis=1)\n",
    "    df['context'] = df.apply(get_context,axis=1)\n",
    "    df['original_string']=df.apply(make_original_string,axis=1)\n",
    "    df['masked_context'] = df.apply(mask_context,axis=1)\n",
    "    return df"
   ]
  },
  {
   "cell_type": "code",
   "execution_count": 28,
   "metadata": {},
   "outputs": [
    {
     "data": {
      "text/html": [
       "<div>\n",
       "<style scoped>\n",
       "    .dataframe tbody tr th:only-of-type {\n",
       "        vertical-align: middle;\n",
       "    }\n",
       "\n",
       "    .dataframe tbody tr th {\n",
       "        vertical-align: top;\n",
       "    }\n",
       "\n",
       "    .dataframe thead th {\n",
       "        text-align: right;\n",
       "    }\n",
       "</style>\n",
       "<table border=\"1\" class=\"dataframe\">\n",
       "  <thead>\n",
       "    <tr style=\"text-align: right;\">\n",
       "      <th></th>\n",
       "      <th>id</th>\n",
       "      <th>original</th>\n",
       "      <th>edit</th>\n",
       "      <th>grades</th>\n",
       "      <th>meanGrade</th>\n",
       "      <th>edited</th>\n",
       "      <th>edited_len</th>\n",
       "      <th>context</th>\n",
       "      <th>original_string</th>\n",
       "      <th>masked_context</th>\n",
       "    </tr>\n",
       "  </thead>\n",
       "  <tbody>\n",
       "    <tr>\n",
       "      <th>0</th>\n",
       "      <td>5515</td>\n",
       "      <td>Trump &lt;Lawyers/&gt; Want A Second Special Counsel</td>\n",
       "      <td>toupees</td>\n",
       "      <td>32110</td>\n",
       "      <td>1.4</td>\n",
       "      <td>trump toupees want a second special counsel</td>\n",
       "      <td>7</td>\n",
       "      <td>trump   want a second special counsel</td>\n",
       "      <td>trump lawyers/ want a second special counsel</td>\n",
       "      <td>trump [mask] want a second special counsel</td>\n",
       "    </tr>\n",
       "    <tr>\n",
       "      <th>1</th>\n",
       "      <td>12469</td>\n",
       "      <td>One industry suddenly has ' unfettered access ...</td>\n",
       "      <td>pie</td>\n",
       "      <td>21110</td>\n",
       "      <td>1.0</td>\n",
       "      <td>one industry suddenly has ' unfettered access ...</td>\n",
       "      <td>22</td>\n",
       "      <td>one industry suddenly has ' unfettered access ...</td>\n",
       "      <td>one industry suddenly has ' unfettered access ...</td>\n",
       "      <td>one industry suddenly has ' unfettered access ...</td>\n",
       "    </tr>\n",
       "    <tr>\n",
       "      <th>2</th>\n",
       "      <td>10947</td>\n",
       "      <td>After healthcare vote , California Rep. Jeff D...</td>\n",
       "      <td>wrote</td>\n",
       "      <td>10000</td>\n",
       "      <td>0.2</td>\n",
       "      <td>after healthcare vote , california rep. jeff d...</td>\n",
       "      <td>19</td>\n",
       "      <td>after healthcare vote , california rep. jeff d...</td>\n",
       "      <td>after healthcare vote , california rep. jeff d...</td>\n",
       "      <td>after healthcare vote , california rep. jeff d...</td>\n",
       "    </tr>\n",
       "    <tr>\n",
       "      <th>3</th>\n",
       "      <td>5518</td>\n",
       "      <td>Since when was there such a low bar for &lt;defam...</td>\n",
       "      <td>planetary</td>\n",
       "      <td>10000</td>\n",
       "      <td>0.2</td>\n",
       "      <td>since when was there such a low bar for planet...</td>\n",
       "      <td>18</td>\n",
       "      <td>since when was there such a low bar for   sett...</td>\n",
       "      <td>since when was there such a low bar for defama...</td>\n",
       "      <td>since when was there such a low bar for [mask]...</td>\n",
       "    </tr>\n",
       "    <tr>\n",
       "      <th>4</th>\n",
       "      <td>11453</td>\n",
       "      <td>Donald Trump Unfollowed Reince Priebus , The U...</td>\n",
       "      <td>Compliment</td>\n",
       "      <td>32221</td>\n",
       "      <td>2.0</td>\n",
       "      <td>donald trump unfollowed reince priebus , the u...</td>\n",
       "      <td>13</td>\n",
       "      <td>donald trump unfollowed reince priebus , the u...</td>\n",
       "      <td>donald trump unfollowed reince priebus , the u...</td>\n",
       "      <td>donald trump unfollowed reince priebus , the u...</td>\n",
       "    </tr>\n",
       "  </tbody>\n",
       "</table>\n",
       "</div>"
      ],
      "text/plain": [
       "      id                                           original        edit  \\\n",
       "0   5515     Trump <Lawyers/> Want A Second Special Counsel     toupees   \n",
       "1  12469  One industry suddenly has ' unfettered access ...         pie   \n",
       "2  10947  After healthcare vote , California Rep. Jeff D...       wrote   \n",
       "3   5518  Since when was there such a low bar for <defam...   planetary   \n",
       "4  11453  Donald Trump Unfollowed Reince Priebus , The U...  Compliment   \n",
       "\n",
       "   grades  meanGrade                                             edited  \\\n",
       "0   32110        1.4        trump toupees want a second special counsel   \n",
       "1   21110        1.0  one industry suddenly has ' unfettered access ...   \n",
       "2   10000        0.2  after healthcare vote , california rep. jeff d...   \n",
       "3   10000        0.2  since when was there such a low bar for planet...   \n",
       "4   32221        2.0  donald trump unfollowed reince priebus , the u...   \n",
       "\n",
       "   edited_len                                            context  \\\n",
       "0           7              trump   want a second special counsel   \n",
       "1          22  one industry suddenly has ' unfettered access ...   \n",
       "2          19  after healthcare vote , california rep. jeff d...   \n",
       "3          18  since when was there such a low bar for   sett...   \n",
       "4          13  donald trump unfollowed reince priebus , the u...   \n",
       "\n",
       "                                     original_string  \\\n",
       "0       trump lawyers/ want a second special counsel   \n",
       "1  one industry suddenly has ' unfettered access ...   \n",
       "2  after healthcare vote , california rep. jeff d...   \n",
       "3  since when was there such a low bar for defama...   \n",
       "4  donald trump unfollowed reince priebus , the u...   \n",
       "\n",
       "                                      masked_context  \n",
       "0         trump [mask] want a second special counsel  \n",
       "1  one industry suddenly has ' unfettered access ...  \n",
       "2  after healthcare vote , california rep. jeff d...  \n",
       "3  since when was there such a low bar for [mask]...  \n",
       "4  donald trump unfollowed reince priebus , the u...  "
      ]
     },
     "execution_count": 28,
     "metadata": {},
     "output_type": "execute_result"
    }
   ],
   "source": [
    "train_df = pd.read_csv(\"./data/semeval_train.csv\")\n",
    "\n",
    "train_df = enhance_df(train_df)\n",
    "train_df.head()"
   ]
  },
  {
   "cell_type": "code",
   "execution_count": 30,
   "metadata": {},
   "outputs": [],
   "source": [
    "train_texts = train_df.masked_context.values.tolist()\n",
    "train_labels = train_df.meanGrade.values"
   ]
  },
  {
   "cell_type": "code",
   "execution_count": 31,
   "metadata": {},
   "outputs": [
    {
     "data": {
      "text/html": [
       "<div>\n",
       "<style scoped>\n",
       "    .dataframe tbody tr th:only-of-type {\n",
       "        vertical-align: middle;\n",
       "    }\n",
       "\n",
       "    .dataframe tbody tr th {\n",
       "        vertical-align: top;\n",
       "    }\n",
       "\n",
       "    .dataframe thead th {\n",
       "        text-align: right;\n",
       "    }\n",
       "</style>\n",
       "<table border=\"1\" class=\"dataframe\">\n",
       "  <thead>\n",
       "    <tr style=\"text-align: right;\">\n",
       "      <th></th>\n",
       "      <th>id</th>\n",
       "      <th>original</th>\n",
       "      <th>edit</th>\n",
       "      <th>grades</th>\n",
       "      <th>meanGrade</th>\n",
       "      <th>pred</th>\n",
       "      <th>edited</th>\n",
       "      <th>edited_len</th>\n",
       "      <th>context</th>\n",
       "      <th>original_string</th>\n",
       "      <th>masked_context</th>\n",
       "    </tr>\n",
       "  </thead>\n",
       "  <tbody>\n",
       "    <tr>\n",
       "      <th>0</th>\n",
       "      <td>7848</td>\n",
       "      <td>The Daily 202 : Loyalty is a one-way street fo...</td>\n",
       "      <td>cars</td>\n",
       "      <td>21100</td>\n",
       "      <td>0.8</td>\n",
       "      <td>0.938505</td>\n",
       "      <td>the daily 202 : loyalty is a one-way street fo...</td>\n",
       "      <td>12</td>\n",
       "      <td>the daily 202 : loyalty is a one-way street fo...</td>\n",
       "      <td>the daily 202 : loyalty is a one-way street fo...</td>\n",
       "      <td>the daily 202 : loyalty is a one-way street fo...</td>\n",
       "    </tr>\n",
       "    <tr>\n",
       "      <th>1</th>\n",
       "      <td>9500</td>\n",
       "      <td>Trump Bodyguard Keith Schiller Testifies Russi...</td>\n",
       "      <td>Tacos</td>\n",
       "      <td>32211</td>\n",
       "      <td>1.8</td>\n",
       "      <td>0.938505</td>\n",
       "      <td>trump bodyguard keith schiller testifies russi...</td>\n",
       "      <td>14</td>\n",
       "      <td>trump bodyguard keith schiller testifies russi...</td>\n",
       "      <td>trump bodyguard keith schiller testifies russi...</td>\n",
       "      <td>trump bodyguard keith schiller testifies russi...</td>\n",
       "    </tr>\n",
       "    <tr>\n",
       "      <th>2</th>\n",
       "      <td>10518</td>\n",
       "      <td>Trump Jr. says missing out on India &lt;deals/&gt; b...</td>\n",
       "      <td>food</td>\n",
       "      <td>32111</td>\n",
       "      <td>1.6</td>\n",
       "      <td>0.938505</td>\n",
       "      <td>trump jr. says missing out on india food becau...</td>\n",
       "      <td>14</td>\n",
       "      <td>trump jr. says missing out on india   because ...</td>\n",
       "      <td>trump jr. says missing out on india deals/ bec...</td>\n",
       "      <td>trump jr. says missing out on india [mask] bec...</td>\n",
       "    </tr>\n",
       "    <tr>\n",
       "      <th>3</th>\n",
       "      <td>11882</td>\n",
       "      <td>WHCD Comedian Michelle Wolf : Trump a ‘ Pussy ...</td>\n",
       "      <td>Hear</td>\n",
       "      <td>10000</td>\n",
       "      <td>0.2</td>\n",
       "      <td>0.938505</td>\n",
       "      <td>whcd comedian michelle wolf : trump a ‘ pussy ...</td>\n",
       "      <td>23</td>\n",
       "      <td>whcd comedian michelle wolf : trump a ‘ pussy ...</td>\n",
       "      <td>whcd comedian michelle wolf : trump a ‘ pussy ...</td>\n",
       "      <td>whcd comedian michelle wolf : trump a ‘ pussy ...</td>\n",
       "    </tr>\n",
       "    <tr>\n",
       "      <th>4</th>\n",
       "      <td>1239</td>\n",
       "      <td>US calls Russia 's decision to &lt;cut/&gt; its dipl...</td>\n",
       "      <td>vellicate</td>\n",
       "      <td>0</td>\n",
       "      <td>0.0</td>\n",
       "      <td>0.938505</td>\n",
       "      <td>us calls russia 's decision to vellicate its d...</td>\n",
       "      <td>21</td>\n",
       "      <td>us calls russia 's decision to   its diplomati...</td>\n",
       "      <td>us calls russia 's decision to cut/ its diplom...</td>\n",
       "      <td>us calls russia 's decision to [mask] its dipl...</td>\n",
       "    </tr>\n",
       "  </tbody>\n",
       "</table>\n",
       "</div>"
      ],
      "text/plain": [
       "      id                                           original       edit  \\\n",
       "0   7848  The Daily 202 : Loyalty is a one-way street fo...       cars   \n",
       "1   9500  Trump Bodyguard Keith Schiller Testifies Russi...      Tacos   \n",
       "2  10518  Trump Jr. says missing out on India <deals/> b...       food   \n",
       "3  11882  WHCD Comedian Michelle Wolf : Trump a ‘ Pussy ...       Hear   \n",
       "4   1239  US calls Russia 's decision to <cut/> its dipl...  vellicate   \n",
       "\n",
       "   grades  meanGrade      pred  \\\n",
       "0   21100        0.8  0.938505   \n",
       "1   32211        1.8  0.938505   \n",
       "2   32111        1.6  0.938505   \n",
       "3   10000        0.2  0.938505   \n",
       "4       0        0.0  0.938505   \n",
       "\n",
       "                                              edited  edited_len  \\\n",
       "0  the daily 202 : loyalty is a one-way street fo...          12   \n",
       "1  trump bodyguard keith schiller testifies russi...          14   \n",
       "2  trump jr. says missing out on india food becau...          14   \n",
       "3  whcd comedian michelle wolf : trump a ‘ pussy ...          23   \n",
       "4  us calls russia 's decision to vellicate its d...          21   \n",
       "\n",
       "                                             context  \\\n",
       "0  the daily 202 : loyalty is a one-way street fo...   \n",
       "1  trump bodyguard keith schiller testifies russi...   \n",
       "2  trump jr. says missing out on india   because ...   \n",
       "3  whcd comedian michelle wolf : trump a ‘ pussy ...   \n",
       "4  us calls russia 's decision to   its diplomati...   \n",
       "\n",
       "                                     original_string  \\\n",
       "0  the daily 202 : loyalty is a one-way street fo...   \n",
       "1  trump bodyguard keith schiller testifies russi...   \n",
       "2  trump jr. says missing out on india deals/ bec...   \n",
       "3  whcd comedian michelle wolf : trump a ‘ pussy ...   \n",
       "4  us calls russia 's decision to cut/ its diplom...   \n",
       "\n",
       "                                      masked_context  \n",
       "0  the daily 202 : loyalty is a one-way street fo...  \n",
       "1  trump bodyguard keith schiller testifies russi...  \n",
       "2  trump jr. says missing out on india [mask] bec...  \n",
       "3  whcd comedian michelle wolf : trump a ‘ pussy ...  \n",
       "4  us calls russia 's decision to [mask] its dipl...  "
      ]
     },
     "execution_count": 31,
     "metadata": {},
     "output_type": "execute_result"
    }
   ],
   "source": [
    "test_df = pd.read_csv(\"./data/semeval_test.csv\")\n",
    "\n",
    "test_df = enhance_df(test_df)\n",
    "test_df.head()"
   ]
  },
  {
   "cell_type": "code",
   "execution_count": 32,
   "metadata": {},
   "outputs": [],
   "source": [
    "test_texts = test_df.masked_context.values.tolist()\n",
    "test_labels = test_df.meanGrade.values"
   ]
  },
  {
   "cell_type": "code",
   "execution_count": 33,
   "metadata": {},
   "outputs": [],
   "source": [
    "from transformers import AutoTokenizer\n",
    "model_name = \"distilbert-base-uncased\"\n",
    "tokenizer = AutoTokenizer.from_pretrained(model_name)"
   ]
  },
  {
   "cell_type": "code",
   "execution_count": 34,
   "metadata": {},
   "outputs": [],
   "source": [
    "import torch\n",
    "from transformers import AutoModel\n",
    "\n",
    "device = torch.device(\"cuda\" if torch.cuda.is_available() else \"cpu\")\n",
    "bert_model = AutoModel.from_pretrained(model_name).to(device)"
   ]
  },
  {
   "cell_type": "code",
   "execution_count": 35,
   "metadata": {},
   "outputs": [],
   "source": [
    "def tokenize(batch):\n",
    "    return tokenizer(batch, padding='max_length',truncation=True,max_length=20)"
   ]
  },
  {
   "cell_type": "code",
   "execution_count": 45,
   "metadata": {},
   "outputs": [],
   "source": [
    "def extract_bert_embedding(texts):\n",
    "\n",
    "    tokens = tokenize(texts)\n",
    "    input_ids_tensor = torch.tensor(tokens['input_ids']).to(device)\n",
    "    attention_mask_tensor = torch.tensor(tokens['attention_mask']).to(device)\n",
    "    \n",
    "    with torch.no_grad():\n",
    "        last_hidden_state = bert_model(input_ids_tensor, attention_mask_tensor).last_hidden_state\n",
    "        last_hidden_state = last_hidden_state.cpu().numpy()\n",
    "    \n",
    "    embeddings = last_hidden_state[:,0,:]\n",
    "    return embeddings\n",
    "    "
   ]
  },
  {
   "cell_type": "code",
   "execution_count": 70,
   "metadata": {},
   "outputs": [],
   "source": [
    "df = train_df\n",
    "masked_context_text = df.masked_context.values.tolist()\n",
    "edited_text = df.edited.values.tolist()\n",
    "context_text = df.context.values.tolist()\n",
    "original_text = df.original_string.values.tolist()\n",
    "edit_text = df.edit.values.tolist()\n",
    "\n",
    "\n",
    "masked_embedding= extract_bert_embedding(masked_context_text)\n",
    "edited_embedding = extract_bert_embedding(edited_text)\n",
    "context_embedding = extract_bert_embedding(context_text)\n",
    "original_embedding= extract_bert_embedding(original_text)\n",
    "edit_embedding = extract_bert_embedding(edit_text)"
   ]
  },
  {
   "cell_type": "code",
   "execution_count": 71,
   "metadata": {},
   "outputs": [],
   "source": [
    "df = test_df\n",
    "masked_context_text = df.masked_context.values.tolist()\n",
    "edited_text = df.edited.values.tolist()\n",
    "context_text = df.context.values.tolist()\n",
    "original_text = df.original_string.values.tolist()\n",
    "edit_text = df.edit.values.tolist()\n",
    "test_masked_embedding= extract_bert_embedding(masked_context_text)\n",
    "test_edited_embedding = extract_bert_embedding(edited_text)\n",
    "test_context_embedding = extract_bert_embedding(context_text)\n",
    "test_original_embedding= extract_bert_embedding(original_text)\n",
    "test_edit_embedding = extract_bert_embedding(edit_text)"
   ]
  },
  {
   "cell_type": "code",
   "execution_count": 72,
   "metadata": {},
   "outputs": [],
   "source": [
    "train_embedding = masked_embedding + edit_embedding\n",
    "test_embeddings = test_masked_embedding + test_edit_embedding"
   ]
  },
  {
   "cell_type": "code",
   "execution_count": 85,
   "metadata": {},
   "outputs": [],
   "source": [
    "test_embeddings = np.concatenate([test_masked_embedding,test_edit_embedding],axis=1)\n",
    "train_embeddings = np.concatenate([masked_embedding,edit_embedding],axis=1)"
   ]
  },
  {
   "cell_type": "code",
   "execution_count": 100,
   "metadata": {},
   "outputs": [],
   "source": [
    "def make_mixed_embeddings(a1,a2):\n",
    "    e1 = np.concatenate([a1,a2],axis=1)\n",
    "    e2 = a1 - a2\n",
    "    e3 = a1 * a2\n",
    "    return np.concatenate([e1,e2,e3],axis=1)"
   ]
  },
  {
   "cell_type": "code",
   "execution_count": 52,
   "metadata": {},
   "outputs": [],
   "source": [
    "def extract_diff_embedding(df):\n",
    "    '''difference between masked context and edit'''\n",
    "    masked_context_text = df.masked_context.values.tolist()\n",
    "    edited_text = df.edited.values.tolist()\n",
    "    masked_embedding= extract_bert_embedding(masked_context_text)\n",
    "    edited_embedding = extract_bert_embedding(edited_text)\n",
    "    embedding = masked_embedding - edited_embedding\n",
    "    return embedding"
   ]
  },
  {
   "cell_type": "code",
   "execution_count": 99,
   "metadata": {},
   "outputs": [
    {
     "data": {
      "text/plain": [
       "(7721, 3072)"
      ]
     },
     "execution_count": 99,
     "metadata": {},
     "output_type": "execute_result"
    }
   ],
   "source": [
    "np.concatenate([masked_embedding,edit_embedding],axis=1)"
   ]
  },
  {
   "cell_type": "code",
   "execution_count": 249,
   "metadata": {},
   "outputs": [
    {
     "data": {
      "text/plain": [
       "(7721, 3072)"
      ]
     },
     "execution_count": 249,
     "metadata": {},
     "output_type": "execute_result"
    }
   ],
   "source": [
    "train_embeddings = make_mixed_embeddings(original_embedding,edited_embedding)\n",
    "train_embeddings.shape"
   ]
  },
  {
   "cell_type": "code",
   "execution_count": 250,
   "metadata": {},
   "outputs": [
    {
     "data": {
      "text/plain": [
       "(1931, 3072)"
      ]
     },
     "execution_count": 250,
     "metadata": {},
     "output_type": "execute_result"
    }
   ],
   "source": [
    "test_embeddings = make_mixed_embeddings(test_original_embedding,test_edited_embedding)\n",
    "test_embeddings.shape"
   ]
  },
  {
   "cell_type": "code",
   "execution_count": 264,
   "metadata": {},
   "outputs": [
    {
     "data": {
      "text/plain": [
       "(7721, 768)"
      ]
     },
     "execution_count": 264,
     "metadata": {},
     "output_type": "execute_result"
    }
   ],
   "source": [
    "train_embeddings = extract_diff_embedding(train_df)\n",
    "train_embeddings.shape"
   ]
  },
  {
   "cell_type": "code",
   "execution_count": 266,
   "metadata": {},
   "outputs": [
    {
     "data": {
      "text/plain": [
       "(1931, 768)"
      ]
     },
     "execution_count": 266,
     "metadata": {},
     "output_type": "execute_result"
    }
   ],
   "source": [
    "test_embeddings =extract_diff_embedding(test_df)\n",
    "test_embeddings.shape"
   ]
  },
  {
   "cell_type": "code",
   "execution_count": 310,
   "metadata": {},
   "outputs": [],
   "source": [
    "from keras.preprocessing.text import Tokenizer\n",
    "from keras.preprocessing.sequence import pad_sequences\n",
    "from keras.models import Sequential\n",
    "from keras.layers import Dense\n",
    "from keras.layers import Flatten\n",
    "from keras.layers import Embedding\n",
    "from keras.layers import Input\n",
    "from keras import regularizers"
   ]
  },
  {
   "cell_type": "code",
   "execution_count": 318,
   "metadata": {},
   "outputs": [],
   "source": [
    "#l2r = regularizers.l1(l1=0.00001)\n",
    "l2r=None"
   ]
  },
  {
   "cell_type": "code",
   "execution_count": 324,
   "metadata": {},
   "outputs": [
    {
     "name": "stdout",
     "output_type": "stream",
     "text": [
      "Model: \"sequential_32\"\n",
      "_________________________________________________________________\n",
      "Layer (type)                 Output Shape              Param #   \n",
      "=================================================================\n",
      "dense_78 (Dense)             (None, 32)                24608     \n",
      "_________________________________________________________________\n",
      "dense_79 (Dense)             (None, 1)                 33        \n",
      "=================================================================\n",
      "Total params: 24,641\n",
      "Trainable params: 24,641\n",
      "Non-trainable params: 0\n",
      "_________________________________________________________________\n",
      "None\n"
     ]
    }
   ],
   "source": [
    "model = Sequential()\n",
    " \n",
    "model.add(Input(shape=(768)))\n",
    "\n",
    "model.add(Dense(32,activation='relu',kernel_regularizer=l2r))\n",
    "#model.add(Dense(256,activation='relu',kernel_regularizer=l2r))\n",
    "model.add(Dense(1))\n",
    "# compile the model\n",
    "opt = keras.optimizers.Adam(learning_rate=0.0001)\n",
    "model.compile(optimizer=opt, loss='mean_squared_error')\n",
    "# summarize the model\n",
    "print(model.summary())"
   ]
  },
  {
   "cell_type": "code",
   "execution_count": 325,
   "metadata": {},
   "outputs": [
    {
     "name": "stdout",
     "output_type": "stream",
     "text": [
      "Epoch 1/10\n",
      "242/242 [==============================] - 0s 893us/step - loss: 0.7296\n",
      "Epoch 2/10\n",
      "242/242 [==============================] - 0s 903us/step - loss: 0.4162\n",
      "Epoch 3/10\n",
      "242/242 [==============================] - 0s 926us/step - loss: 0.3863\n",
      "Epoch 4/10\n",
      "242/242 [==============================] - 0s 927us/step - loss: 0.3680\n",
      "Epoch 5/10\n",
      "242/242 [==============================] - 0s 910us/step - loss: 0.3475\n",
      "Epoch 6/10\n",
      "242/242 [==============================] - 0s 899us/step - loss: 0.3473\n",
      "Epoch 7/10\n",
      "242/242 [==============================] - 0s 902us/step - loss: 0.3273\n",
      "Epoch 8/10\n",
      "242/242 [==============================] - 0s 862us/step - loss: 0.3189\n",
      "Epoch 9/10\n",
      "242/242 [==============================] - 0s 878us/step - loss: 0.3180\n",
      "Epoch 10/10\n",
      "242/242 [==============================] - 0s 919us/step - loss: 0.3133\n"
     ]
    },
    {
     "data": {
      "text/plain": [
       "<tensorflow.python.keras.callbacks.History at 0x7fc7054a54d0>"
      ]
     },
     "execution_count": 325,
     "metadata": {},
     "output_type": "execute_result"
    }
   ],
   "source": [
    "model.fit(train_embeddings, train_labels, epochs=10,verbose=1)"
   ]
  },
  {
   "cell_type": "code",
   "execution_count": 326,
   "metadata": {},
   "outputs": [],
   "source": [
    "def evaluate_predictions(pred_df):\n",
    "    '''RMSE is the metric used to compare predicted score and actual score'''\n",
    "    diff = (pred_df.meanGrade - pred_df.pred).values\n",
    "    mean_squared_diff = np.sum(diff*diff)/diff.shape[0]\n",
    "    rmse = np.sqrt(mean_squared_diff)\n",
    "    return rmse"
   ]
  },
  {
   "cell_type": "code",
   "execution_count": 327,
   "metadata": {},
   "outputs": [
    {
     "data": {
      "text/plain": [
       "0.5541081562271556"
      ]
     },
     "execution_count": 327,
     "metadata": {},
     "output_type": "execute_result"
    }
   ],
   "source": [
    "pred = model.predict(train_embeddings)\n",
    "train_df['pred'] = pred\n",
    "evaluate_predictions(train_df)"
   ]
  },
  {
   "cell_type": "code",
   "execution_count": 328,
   "metadata": {},
   "outputs": [
    {
     "data": {
      "text/plain": [
       "0.5747233143664005"
      ]
     },
     "execution_count": 328,
     "metadata": {},
     "output_type": "execute_result"
    }
   ],
   "source": [
    "\n",
    "pred = model.predict(test_embeddings)\n",
    "test_df['pred'] = pred\n",
    "evaluate_predictions(test_df)"
   ]
  },
  {
   "cell_type": "code",
   "execution_count": null,
   "metadata": {},
   "outputs": [],
   "source": []
  },
  {
   "cell_type": "code",
   "execution_count": 242,
   "metadata": {},
   "outputs": [
    {
     "data": {
      "text/plain": [
       "0.511209222045681"
      ]
     },
     "execution_count": 242,
     "metadata": {},
     "output_type": "execute_result"
    }
   ],
   "source": [
    "pred = model.predict(train_embeddings)\n",
    "train_df['pred'] = pred\n",
    "evaluate_predictions(train_df)"
   ]
  },
  {
   "cell_type": "code",
   "execution_count": 144,
   "metadata": {},
   "outputs": [
    {
     "data": {
      "text/plain": [
       "0.5867240416307906"
      ]
     },
     "execution_count": 144,
     "metadata": {},
     "output_type": "execute_result"
    }
   ],
   "source": [
    "\n",
    "pred = model.predict(test_embeddings)\n",
    "test_df['pred'] = pred\n",
    "evaluate_predictions(test_df)"
   ]
  },
  {
   "cell_type": "code",
   "execution_count": null,
   "metadata": {},
   "outputs": [],
   "source": []
  },
  {
   "cell_type": "code",
   "execution_count": null,
   "metadata": {},
   "outputs": [],
   "source": []
  }
 ],
 "metadata": {
  "kernelspec": {
   "display_name": "Python 3",
   "language": "python",
   "name": "python3"
  },
  "language_info": {
   "codemirror_mode": {
    "name": "ipython",
    "version": 3
   },
   "file_extension": ".py",
   "mimetype": "text/x-python",
   "name": "python",
   "nbconvert_exporter": "python",
   "pygments_lexer": "ipython3",
   "version": "3.7.4"
  }
 },
 "nbformat": 4,
 "nbformat_minor": 4
}
